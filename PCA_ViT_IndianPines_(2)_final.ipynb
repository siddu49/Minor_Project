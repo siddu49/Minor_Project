{
  "cells": [
    {
      "cell_type": "markdown",
      "metadata": {
        "id": "view-in-github",
        "colab_type": "text"
      },
      "source": [
        "<a href=\"https://colab.research.google.com/github/siddu49/Minor_Project/blob/main/PCA_ViT_IndianPines_(2)_final.ipynb\" target=\"_parent\"><img src=\"https://colab.research.google.com/assets/colab-badge.svg\" alt=\"Open In Colab\"/></a>"
      ]
    },
    {
      "cell_type": "markdown",
      "metadata": {
        "id": "U5RiHBvrKcxe"
      },
      "source": [
        "# PCA + Vision Transformer (ViT) for Indian Pines\n",
        "\n",
        "This notebook is Colab-ready and runs end-to-end: loading `.mat` files, PCA, patch extraction, building and training a Tiny-ViT, evaluation and plotting. **Run cells in order.**"
      ],
      "id": "U5RiHBvrKcxe"
    },
    {
      "cell_type": "markdown",
      "metadata": {
        "id": "zZSvl7cuKcxg"
      },
      "source": [
        "**Note:** Upload `Indian_pines_corrected (2).mat` and `Indian_pines_gt (2).mat` into the Colab session (Files pane) before running."
      ],
      "id": "zZSvl7cuKcxg"
    },
    {
      "cell_type": "code",
      "execution_count": 1,
      "metadata": {
        "colab": {
          "base_uri": "https://localhost:8080/"
        },
        "id": "hL-jxuGNKcxg",
        "outputId": "0d064714-36b6-4973-a1af-433d9fd83055"
      },
      "outputs": [
        {
          "output_type": "stream",
          "name": "stdout",
          "text": [
            "Using device: cpu\n"
          ]
        }
      ],
      "source": [
        "import numpy as np\n",
        "import torch\n",
        "import time\n",
        "import matplotlib.pyplot as plt\n",
        "from torch import nn\n",
        "from torch.utils.data import Dataset, DataLoader\n",
        "from sklearn.decomposition import PCA\n",
        "from sklearn.model_selection import train_test_split\n",
        "from sklearn.metrics import confusion_matrix, cohen_kappa_score\n",
        "from scipy.io import loadmat\n",
        "from pathlib import Path\n",
        "\n",
        "OUTDIR = Path('pca_vit_prepared'); OUTDIR.mkdir(exist_ok=True)\n",
        "\n",
        "params = {\n",
        "    'pca_components': 3,\n",
        "    'patch_size': 9,\n",
        "    'num_classes': 16,\n",
        "    'batch_size': 64,\n",
        "    'epochs': 40,\n",
        "    'lr': 1e-3,\n",
        "    'vit_dim': 128,\n",
        "    'vit_depth': 4,\n",
        "    'vit_heads': 4,\n",
        "    'device': 'cuda' if torch.cuda.is_available() else 'cpu'\n",
        "}\n",
        "print('Using device:', params['device'])"
      ],
      "id": "hL-jxuGNKcxg"
    },
    {
      "cell_type": "markdown",
      "metadata": {
        "id": "ReMB_mGSKcxh"
      },
      "source": [
        "## 1) Load Indian Pines `.mat` files\n",
        "Upload the two `.mat` files to Colab (left Files pane) and run this cell."
      ],
      "id": "ReMB_mGSKcxh"
    },
    {
      "cell_type": "code",
      "execution_count": 2,
      "metadata": {
        "colab": {
          "base_uri": "https://localhost:8080/"
        },
        "id": "v6IIXlLXKcxh",
        "outputId": "1e97fcdd-5ea4-4215-8ca6-f0a107ba6602"
      },
      "outputs": [
        {
          "output_type": "stream",
          "name": "stdout",
          "text": [
            "Cube shape: (145, 145, 200) GT shape: (145, 145)\n",
            "Unique labels in GT (0 is unlabeled): [ 0  1  2  3  4  5  6  7  8  9 10 11 12 13 14 15 16]\n"
          ]
        }
      ],
      "source": [
        "cube = loadmat(\"Indian_pines_corrected (2).mat\")[\"indian_pines_corrected\"]\n",
        "GT = loadmat(\"Indian_pines_gt (2).mat\")[\"indian_pines_gt\"]\n",
        "H, W, C = cube.shape\n",
        "print('Cube shape:', cube.shape, 'GT shape:', GT.shape)\n",
        "print('Unique labels in GT (0 is unlabeled):', np.unique(GT))"
      ],
      "id": "v6IIXlLXKcxh"
    },
    {
      "cell_type": "markdown",
      "metadata": {
        "id": "76pxVqGfKcxh"
      },
      "source": [
        "## 2) PCA (reduce spectral bands to 3)"
      ],
      "id": "76pxVqGfKcxh"
    },
    {
      "cell_type": "code",
      "execution_count": 3,
      "metadata": {
        "colab": {
          "base_uri": "https://localhost:8080/"
        },
        "id": "oAb7cqZaKcxh",
        "outputId": "ef883e3f-2a11-4f24-f98a-f55e1d537218"
      },
      "outputs": [
        {
          "output_type": "stream",
          "name": "stdout",
          "text": [
            "Flat shape for PCA: (21025, 200)\n",
            "PCA result shape: (145, 145, 3)\n",
            "Explained variance ratio (sum): 0.9352152488891898\n"
          ]
        }
      ],
      "source": [
        "# Flatten, fit PCA, transform\n",
        "cube_2d = cube.reshape(-1, C)\n",
        "print('Flat shape for PCA:', cube_2d.shape)\n",
        "\n",
        "pca = PCA(n_components=params['pca_components'], whiten=True, random_state=42)\n",
        "cube_pca = pca.fit_transform(cube_2d)\n",
        "cube_pca = cube_pca.reshape(H, W, params['pca_components'])\n",
        "print('PCA result shape:', cube_pca.shape)\n",
        "print('Explained variance ratio (sum):', pca.explained_variance_ratio_.sum())"
      ],
      "id": "oAb7cqZaKcxh"
    },
    {
      "cell_type": "markdown",
      "metadata": {
        "id": "k9jPWIw4Kcxi"
      },
      "source": [
        "## 3) Extract 9×9 patches centered on labeled pixels and save `.npy` files"
      ],
      "id": "k9jPWIw4Kcxi"
    },
    {
      "cell_type": "code",
      "execution_count": 4,
      "metadata": {
        "colab": {
          "base_uri": "https://localhost:8080/"
        },
        "id": "p2unAh9aKcxi",
        "outputId": "186df532-2f74-4a93-c22e-a7b12f218845"
      },
      "outputs": [
        {
          "output_type": "stream",
          "name": "stdout",
          "text": [
            "Extracted patches shape: (10249, 9, 9, 3)\n",
            "Saved preprocessed files to pca_vit_prepared\n"
          ]
        }
      ],
      "source": [
        "PATCH_SIZE = params['patch_size']\n",
        "margin = PATCH_SIZE // 2\n",
        "padded = np.pad(cube_pca, ((margin,margin),(margin,margin),(0,0)), mode='reflect')\n",
        "patches = []\n",
        "labels = []\n",
        "for i in range(margin, H + margin):\n",
        "    for j in range(margin, W + margin):\n",
        "        lab = GT[i-margin, j-margin]\n",
        "        if lab == 0:\n",
        "            continue\n",
        "        patch = padded[i-margin:i+margin+1, j-margin:j+margin+1, :]\n",
        "        patches.append(patch)\n",
        "        labels.append(int(lab-1))\n",
        "patches = np.stack(patches).astype('float32')\n",
        "labels = np.array(labels).astype('int64')\n",
        "print('Extracted patches shape:', patches.shape)\n",
        "\n",
        "train_idx, test_idx = train_test_split(np.arange(len(labels)), test_size=0.3, random_state=42, stratify=labels)\n",
        "np.save(OUTDIR/'patches.npy', patches)\n",
        "np.save(OUTDIR/'labels.npy', labels)\n",
        "np.save(OUTDIR/'train_idx.npy', train_idx)\n",
        "np.save(OUTDIR/'test_idx.npy', test_idx)\n",
        "print('Saved preprocessed files to', OUTDIR)\n"
      ],
      "id": "p2unAh9aKcxi"
    },
    {
      "cell_type": "markdown",
      "metadata": {
        "id": "c-1MOvTUKcxi"
      },
      "source": [
        "## 4) Dataset, DataLoader and quick forward-check"
      ],
      "id": "c-1MOvTUKcxi"
    },
    {
      "cell_type": "code",
      "execution_count": 5,
      "metadata": {
        "colab": {
          "base_uri": "https://localhost:8080/"
        },
        "id": "4X5KJ1bnKcxi",
        "outputId": "3fd54c25-eba3-4e0c-a925-e34bb2765110"
      },
      "outputs": [
        {
          "output_type": "stream",
          "name": "stdout",
          "text": [
            "Train samples: 7174 Test samples: 3075\n",
            "Batch shapes: torch.Size([8, 3, 9, 9]) torch.Size([8])\n",
            "Forward pass -> torch.Size([8, 16])\n"
          ]
        }
      ],
      "source": [
        "class HSIDataset(Dataset):\n",
        "    def __init__(self, patches, labels, indices):\n",
        "        self.x = patches[indices].astype('float32')\n",
        "        self.y = labels[indices].astype('int64')\n",
        "    def __len__(self): return len(self.y)\n",
        "    def __getitem__(self, idx):\n",
        "        img = np.transpose(self.x[idx], (2,0,1)).copy()\n",
        "        return torch.from_numpy(img), int(self.y[idx])\n",
        "\n",
        "patches = np.load(OUTDIR/'patches.npy')\n",
        "labels = np.load(OUTDIR/'labels.npy')\n",
        "train_idx = np.load(OUTDIR/'train_idx.npy')\n",
        "test_idx = np.load(OUTDIR/'test_idx.npy')\n",
        "\n",
        "train_ds = HSIDataset(patches, labels, train_idx)\n",
        "test_ds  = HSIDataset(patches, labels, test_idx)\n",
        "train_loader = DataLoader(train_ds, batch_size=8, shuffle=True)\n",
        "\n",
        "print('Train samples:', len(train_ds), 'Test samples:', len(test_ds))\n",
        "\n",
        "# define model pieces for a quick forward check\n",
        "class SimplePatchEmbedding(nn.Module):\n",
        "    def __init__(self, in_ch, patch_size, emb_dim):\n",
        "        super().__init__()\n",
        "        self.proj = nn.Linear(in_ch * patch_size * patch_size, emb_dim)\n",
        "    def forward(self, x):\n",
        "        b = x.shape[0]\n",
        "        x = x.reshape(b, -1)\n",
        "        return self.proj(x)\n",
        "\n",
        "class TinyViT(nn.Module):\n",
        "    def __init__(self, in_ch, patch_size, emb_dim, depth, heads, num_classes):\n",
        "        super().__init__()\n",
        "        self.embed = SimplePatchEmbedding(in_ch, patch_size, emb_dim)\n",
        "        encoder_layer = nn.TransformerEncoderLayer(d_model=emb_dim, nhead=heads, batch_first=True)\n",
        "        self.transformer = nn.TransformerEncoder(encoder_layer, num_layers=depth)\n",
        "        self.cls_token = nn.Parameter(torch.randn(1,1,emb_dim))\n",
        "        self.mlp_head = nn.Sequential(nn.LayerNorm(emb_dim), nn.Linear(emb_dim,256), nn.GELU(), nn.Linear(256,num_classes))\n",
        "    def forward(self, x):\n",
        "        b = x.shape[0]\n",
        "        patch_emb = self.embed(x).unsqueeze(1)\n",
        "        cls_tokens = self.cls_token.expand(b, -1, -1)\n",
        "        tokens = torch.cat([cls_tokens, patch_emb], dim=1)\n",
        "        out = self.transformer(tokens)\n",
        "        cls_out = out[:,0,:]\n",
        "        return self.mlp_head(cls_out)\n",
        "\n",
        "model = TinyViT(params['pca_components'], params['patch_size'], params['vit_dim'], params['vit_depth'], params['vit_heads'], params['num_classes'])\n",
        "xb, yb = next(iter(train_loader))\n",
        "print('Batch shapes:', xb.shape, yb.shape)\n",
        "print('Forward pass ->', model(xb.float()).shape)\n"
      ],
      "id": "4X5KJ1bnKcxi"
    },
    {
      "cell_type": "markdown",
      "metadata": {
        "id": "qtA3YfXHKcxj"
      },
      "source": [
        "## 5) Training function and evaluate helper"
      ],
      "id": "qtA3YfXHKcxj"
    },
    {
      "cell_type": "code",
      "execution_count": 6,
      "metadata": {
        "colab": {
          "base_uri": "https://localhost:8080/"
        },
        "id": "rs9tWxwCKcxj",
        "outputId": "0411545b-c0af-44d4-8d90-3d8e4f709147"
      },
      "outputs": [
        {
          "output_type": "stream",
          "name": "stderr",
          "text": [
            "/usr/local/lib/python3.12/dist-packages/torch/utils/data/dataloader.py:666: UserWarning: 'pin_memory' argument is set as true but no accelerator is found, then device pinned memory won't be used.\n",
            "  warnings.warn(warn_msg)\n",
            "/tmp/ipython-input-70846419.py:33: UserWarning: Converting a tensor with requires_grad=True to a scalar may lead to unexpected behavior.\n",
            "Consider using tensor.detach() first. (Triggered internally at /pytorch/torch/csrc/autograd/generated/python_variable_methods.cpp:835.)\n",
            "  loss.backward(); opt.step(); running_loss += float(loss)*xb.size(0)\n"
          ]
        },
        {
          "output_type": "stream",
          "name": "stdout",
          "text": [
            "Epoch 1/40 - train_loss=1.3775 val_loss=1.1618 OA=0.5626 AA=0.4325 Kappa=0.4938 time=11.2s\n"
          ]
        },
        {
          "output_type": "stream",
          "name": "stderr",
          "text": [
            "/usr/local/lib/python3.12/dist-packages/torch/utils/data/dataloader.py:666: UserWarning: 'pin_memory' argument is set as true but no accelerator is found, then device pinned memory won't be used.\n",
            "  warnings.warn(warn_msg)\n"
          ]
        },
        {
          "output_type": "stream",
          "name": "stdout",
          "text": [
            "Epoch 2/40 - train_loss=1.0741 val_loss=1.0542 OA=0.6078 AA=0.4822 Kappa=0.5422 time=11.0s\n"
          ]
        },
        {
          "output_type": "stream",
          "name": "stderr",
          "text": [
            "/usr/local/lib/python3.12/dist-packages/torch/utils/data/dataloader.py:666: UserWarning: 'pin_memory' argument is set as true but no accelerator is found, then device pinned memory won't be used.\n",
            "  warnings.warn(warn_msg)\n"
          ]
        },
        {
          "output_type": "stream",
          "name": "stdout",
          "text": [
            "Epoch 3/40 - train_loss=1.0180 val_loss=0.9148 OA=0.6553 AA=0.4905 Kappa=0.5963 time=10.7s\n"
          ]
        },
        {
          "output_type": "stream",
          "name": "stderr",
          "text": [
            "/usr/local/lib/python3.12/dist-packages/torch/utils/data/dataloader.py:666: UserWarning: 'pin_memory' argument is set as true but no accelerator is found, then device pinned memory won't be used.\n",
            "  warnings.warn(warn_msg)\n"
          ]
        },
        {
          "output_type": "stream",
          "name": "stdout",
          "text": [
            "Epoch 4/40 - train_loss=0.8521 val_loss=0.8396 OA=0.7031 AA=0.6168 Kappa=0.6641 time=12.4s\n"
          ]
        },
        {
          "output_type": "stream",
          "name": "stderr",
          "text": [
            "/usr/local/lib/python3.12/dist-packages/torch/utils/data/dataloader.py:666: UserWarning: 'pin_memory' argument is set as true but no accelerator is found, then device pinned memory won't be used.\n",
            "  warnings.warn(warn_msg)\n"
          ]
        },
        {
          "output_type": "stream",
          "name": "stdout",
          "text": [
            "Epoch 5/40 - train_loss=0.8227 val_loss=0.7725 OA=0.7249 AA=0.5976 Kappa=0.6835 time=11.7s\n"
          ]
        },
        {
          "output_type": "stream",
          "name": "stderr",
          "text": [
            "/usr/local/lib/python3.12/dist-packages/torch/utils/data/dataloader.py:666: UserWarning: 'pin_memory' argument is set as true but no accelerator is found, then device pinned memory won't be used.\n",
            "  warnings.warn(warn_msg)\n"
          ]
        },
        {
          "output_type": "stream",
          "name": "stdout",
          "text": [
            "Epoch 6/40 - train_loss=0.6963 val_loss=0.6316 OA=0.7668 AA=0.6597 Kappa=0.7339 time=12.9s\n"
          ]
        },
        {
          "output_type": "stream",
          "name": "stderr",
          "text": [
            "/usr/local/lib/python3.12/dist-packages/torch/utils/data/dataloader.py:666: UserWarning: 'pin_memory' argument is set as true but no accelerator is found, then device pinned memory won't be used.\n",
            "  warnings.warn(warn_msg)\n"
          ]
        },
        {
          "output_type": "stream",
          "name": "stdout",
          "text": [
            "Epoch 7/40 - train_loss=0.6974 val_loss=0.6837 OA=0.7541 AA=0.6796 Kappa=0.7170 time=10.7s\n"
          ]
        },
        {
          "output_type": "stream",
          "name": "stderr",
          "text": [
            "/usr/local/lib/python3.12/dist-packages/torch/utils/data/dataloader.py:666: UserWarning: 'pin_memory' argument is set as true but no accelerator is found, then device pinned memory won't be used.\n",
            "  warnings.warn(warn_msg)\n"
          ]
        },
        {
          "output_type": "stream",
          "name": "stdout",
          "text": [
            "Epoch 8/40 - train_loss=0.6570 val_loss=0.6124 OA=0.7720 AA=0.6724 Kappa=0.7390 time=11.1s\n"
          ]
        },
        {
          "output_type": "stream",
          "name": "stderr",
          "text": [
            "/usr/local/lib/python3.12/dist-packages/torch/utils/data/dataloader.py:666: UserWarning: 'pin_memory' argument is set as true but no accelerator is found, then device pinned memory won't be used.\n",
            "  warnings.warn(warn_msg)\n"
          ]
        },
        {
          "output_type": "stream",
          "name": "stdout",
          "text": [
            "Epoch 9/40 - train_loss=0.5568 val_loss=0.5974 OA=0.7880 AA=0.6746 Kappa=0.7575 time=11.3s\n"
          ]
        },
        {
          "output_type": "stream",
          "name": "stderr",
          "text": [
            "/usr/local/lib/python3.12/dist-packages/torch/utils/data/dataloader.py:666: UserWarning: 'pin_memory' argument is set as true but no accelerator is found, then device pinned memory won't be used.\n",
            "  warnings.warn(warn_msg)\n"
          ]
        },
        {
          "output_type": "stream",
          "name": "stdout",
          "text": [
            "Epoch 10/40 - train_loss=0.5810 val_loss=0.9087 OA=0.7015 AA=0.6375 Kappa=0.6624 time=11.3s\n"
          ]
        },
        {
          "output_type": "stream",
          "name": "stderr",
          "text": [
            "/usr/local/lib/python3.12/dist-packages/torch/utils/data/dataloader.py:666: UserWarning: 'pin_memory' argument is set as true but no accelerator is found, then device pinned memory won't be used.\n",
            "  warnings.warn(warn_msg)\n"
          ]
        },
        {
          "output_type": "stream",
          "name": "stdout",
          "text": [
            "Epoch 11/40 - train_loss=0.5545 val_loss=0.4971 OA=0.8127 AA=0.7306 Kappa=0.7864 time=11.4s\n"
          ]
        },
        {
          "output_type": "stream",
          "name": "stderr",
          "text": [
            "/usr/local/lib/python3.12/dist-packages/torch/utils/data/dataloader.py:666: UserWarning: 'pin_memory' argument is set as true but no accelerator is found, then device pinned memory won't be used.\n",
            "  warnings.warn(warn_msg)\n"
          ]
        },
        {
          "output_type": "stream",
          "name": "stdout",
          "text": [
            "Epoch 12/40 - train_loss=0.4025 val_loss=0.4595 OA=0.8481 AA=0.8039 Kappa=0.8262 time=12.4s\n"
          ]
        },
        {
          "output_type": "stream",
          "name": "stderr",
          "text": [
            "/usr/local/lib/python3.12/dist-packages/torch/utils/data/dataloader.py:666: UserWarning: 'pin_memory' argument is set as true but no accelerator is found, then device pinned memory won't be used.\n",
            "  warnings.warn(warn_msg)\n"
          ]
        },
        {
          "output_type": "stream",
          "name": "stdout",
          "text": [
            "Epoch 13/40 - train_loss=0.3786 val_loss=0.8384 OA=0.7480 AA=0.7045 Kappa=0.7136 time=11.4s\n"
          ]
        },
        {
          "output_type": "stream",
          "name": "stderr",
          "text": [
            "/usr/local/lib/python3.12/dist-packages/torch/utils/data/dataloader.py:666: UserWarning: 'pin_memory' argument is set as true but no accelerator is found, then device pinned memory won't be used.\n",
            "  warnings.warn(warn_msg)\n"
          ]
        },
        {
          "output_type": "stream",
          "name": "stdout",
          "text": [
            "Epoch 14/40 - train_loss=0.3669 val_loss=0.3390 OA=0.8745 AA=0.7768 Kappa=0.8568 time=11.6s\n"
          ]
        },
        {
          "output_type": "stream",
          "name": "stderr",
          "text": [
            "/usr/local/lib/python3.12/dist-packages/torch/utils/data/dataloader.py:666: UserWarning: 'pin_memory' argument is set as true but no accelerator is found, then device pinned memory won't be used.\n",
            "  warnings.warn(warn_msg)\n"
          ]
        },
        {
          "output_type": "stream",
          "name": "stdout",
          "text": [
            "Epoch 15/40 - train_loss=0.2956 val_loss=0.3276 OA=0.8807 AA=0.8370 Kappa=0.8645 time=12.3s\n"
          ]
        },
        {
          "output_type": "stream",
          "name": "stderr",
          "text": [
            "/usr/local/lib/python3.12/dist-packages/torch/utils/data/dataloader.py:666: UserWarning: 'pin_memory' argument is set as true but no accelerator is found, then device pinned memory won't be used.\n",
            "  warnings.warn(warn_msg)\n"
          ]
        },
        {
          "output_type": "stream",
          "name": "stdout",
          "text": [
            "Epoch 16/40 - train_loss=0.2806 val_loss=0.3307 OA=0.8829 AA=0.8886 Kappa=0.8663 time=11.6s\n"
          ]
        },
        {
          "output_type": "stream",
          "name": "stderr",
          "text": [
            "/usr/local/lib/python3.12/dist-packages/torch/utils/data/dataloader.py:666: UserWarning: 'pin_memory' argument is set as true but no accelerator is found, then device pinned memory won't be used.\n",
            "  warnings.warn(warn_msg)\n"
          ]
        },
        {
          "output_type": "stream",
          "name": "stdout",
          "text": [
            "Epoch 17/40 - train_loss=0.3280 val_loss=0.3695 OA=0.8790 AA=0.8434 Kappa=0.8616 time=11.1s\n"
          ]
        },
        {
          "output_type": "stream",
          "name": "stderr",
          "text": [
            "/usr/local/lib/python3.12/dist-packages/torch/utils/data/dataloader.py:666: UserWarning: 'pin_memory' argument is set as true but no accelerator is found, then device pinned memory won't be used.\n",
            "  warnings.warn(warn_msg)\n"
          ]
        },
        {
          "output_type": "stream",
          "name": "stdout",
          "text": [
            "Epoch 18/40 - train_loss=0.3525 val_loss=0.2378 OA=0.9161 AA=0.8836 Kappa=0.9042 time=11.2s\n"
          ]
        },
        {
          "output_type": "stream",
          "name": "stderr",
          "text": [
            "/usr/local/lib/python3.12/dist-packages/torch/utils/data/dataloader.py:666: UserWarning: 'pin_memory' argument is set as true but no accelerator is found, then device pinned memory won't be used.\n",
            "  warnings.warn(warn_msg)\n"
          ]
        },
        {
          "output_type": "stream",
          "name": "stdout",
          "text": [
            "Epoch 19/40 - train_loss=0.2382 val_loss=0.3347 OA=0.8725 AA=0.8383 Kappa=0.8546 time=11.8s\n"
          ]
        },
        {
          "output_type": "stream",
          "name": "stderr",
          "text": [
            "/usr/local/lib/python3.12/dist-packages/torch/utils/data/dataloader.py:666: UserWarning: 'pin_memory' argument is set as true but no accelerator is found, then device pinned memory won't be used.\n",
            "  warnings.warn(warn_msg)\n"
          ]
        },
        {
          "output_type": "stream",
          "name": "stdout",
          "text": [
            "Epoch 20/40 - train_loss=0.2715 val_loss=0.3209 OA=0.8943 AA=0.8570 Kappa=0.8791 time=11.7s\n"
          ]
        },
        {
          "output_type": "stream",
          "name": "stderr",
          "text": [
            "/usr/local/lib/python3.12/dist-packages/torch/utils/data/dataloader.py:666: UserWarning: 'pin_memory' argument is set as true but no accelerator is found, then device pinned memory won't be used.\n",
            "  warnings.warn(warn_msg)\n"
          ]
        },
        {
          "output_type": "stream",
          "name": "stdout",
          "text": [
            "Epoch 21/40 - train_loss=0.2846 val_loss=0.2250 OA=0.9223 AA=0.9197 Kappa=0.9113 time=12.1s\n"
          ]
        },
        {
          "output_type": "stream",
          "name": "stderr",
          "text": [
            "/usr/local/lib/python3.12/dist-packages/torch/utils/data/dataloader.py:666: UserWarning: 'pin_memory' argument is set as true but no accelerator is found, then device pinned memory won't be used.\n",
            "  warnings.warn(warn_msg)\n"
          ]
        },
        {
          "output_type": "stream",
          "name": "stdout",
          "text": [
            "Epoch 22/40 - train_loss=0.1657 val_loss=0.2133 OA=0.9320 AA=0.9324 Kappa=0.9224 time=12.2s\n"
          ]
        },
        {
          "output_type": "stream",
          "name": "stderr",
          "text": [
            "/usr/local/lib/python3.12/dist-packages/torch/utils/data/dataloader.py:666: UserWarning: 'pin_memory' argument is set as true but no accelerator is found, then device pinned memory won't be used.\n",
            "  warnings.warn(warn_msg)\n"
          ]
        },
        {
          "output_type": "stream",
          "name": "stdout",
          "text": [
            "Epoch 23/40 - train_loss=0.2353 val_loss=0.2852 OA=0.8800 AA=0.8841 Kappa=0.8637 time=12.2s\n"
          ]
        },
        {
          "output_type": "stream",
          "name": "stderr",
          "text": [
            "/usr/local/lib/python3.12/dist-packages/torch/utils/data/dataloader.py:666: UserWarning: 'pin_memory' argument is set as true but no accelerator is found, then device pinned memory won't be used.\n",
            "  warnings.warn(warn_msg)\n"
          ]
        },
        {
          "output_type": "stream",
          "name": "stdout",
          "text": [
            "Epoch 24/40 - train_loss=0.2254 val_loss=0.2102 OA=0.9327 AA=0.9074 Kappa=0.9231 time=12.3s\n"
          ]
        },
        {
          "output_type": "stream",
          "name": "stderr",
          "text": [
            "/usr/local/lib/python3.12/dist-packages/torch/utils/data/dataloader.py:666: UserWarning: 'pin_memory' argument is set as true but no accelerator is found, then device pinned memory won't be used.\n",
            "  warnings.warn(warn_msg)\n"
          ]
        },
        {
          "output_type": "stream",
          "name": "stdout",
          "text": [
            "Epoch 25/40 - train_loss=0.1702 val_loss=0.1973 OA=0.9402 AA=0.9388 Kappa=0.9318 time=12.2s\n"
          ]
        },
        {
          "output_type": "stream",
          "name": "stderr",
          "text": [
            "/usr/local/lib/python3.12/dist-packages/torch/utils/data/dataloader.py:666: UserWarning: 'pin_memory' argument is set as true but no accelerator is found, then device pinned memory won't be used.\n",
            "  warnings.warn(warn_msg)\n"
          ]
        },
        {
          "output_type": "stream",
          "name": "stdout",
          "text": [
            "Epoch 26/40 - train_loss=0.2070 val_loss=0.1912 OA=0.9350 AA=0.8570 Kappa=0.9258 time=12.3s\n"
          ]
        },
        {
          "output_type": "stream",
          "name": "stderr",
          "text": [
            "/usr/local/lib/python3.12/dist-packages/torch/utils/data/dataloader.py:666: UserWarning: 'pin_memory' argument is set as true but no accelerator is found, then device pinned memory won't be used.\n",
            "  warnings.warn(warn_msg)\n"
          ]
        },
        {
          "output_type": "stream",
          "name": "stdout",
          "text": [
            "Epoch 27/40 - train_loss=0.1463 val_loss=0.2004 OA=0.9369 AA=0.9427 Kappa=0.9283 time=12.4s\n"
          ]
        },
        {
          "output_type": "stream",
          "name": "stderr",
          "text": [
            "/usr/local/lib/python3.12/dist-packages/torch/utils/data/dataloader.py:666: UserWarning: 'pin_memory' argument is set as true but no accelerator is found, then device pinned memory won't be used.\n",
            "  warnings.warn(warn_msg)\n"
          ]
        },
        {
          "output_type": "stream",
          "name": "stdout",
          "text": [
            "Epoch 28/40 - train_loss=0.1595 val_loss=0.2675 OA=0.9281 AA=0.9408 Kappa=0.9183 time=12.3s\n"
          ]
        },
        {
          "output_type": "stream",
          "name": "stderr",
          "text": [
            "/usr/local/lib/python3.12/dist-packages/torch/utils/data/dataloader.py:666: UserWarning: 'pin_memory' argument is set as true but no accelerator is found, then device pinned memory won't be used.\n",
            "  warnings.warn(warn_msg)\n"
          ]
        },
        {
          "output_type": "stream",
          "name": "stdout",
          "text": [
            "Epoch 29/40 - train_loss=0.1796 val_loss=0.2379 OA=0.9294 AA=0.8794 Kappa=0.9192 time=12.4s\n"
          ]
        },
        {
          "output_type": "stream",
          "name": "stderr",
          "text": [
            "/usr/local/lib/python3.12/dist-packages/torch/utils/data/dataloader.py:666: UserWarning: 'pin_memory' argument is set as true but no accelerator is found, then device pinned memory won't be used.\n",
            "  warnings.warn(warn_msg)\n"
          ]
        },
        {
          "output_type": "stream",
          "name": "stdout",
          "text": [
            "Epoch 30/40 - train_loss=0.1476 val_loss=0.2310 OA=0.9314 AA=0.9297 Kappa=0.9218 time=12.3s\n"
          ]
        },
        {
          "output_type": "stream",
          "name": "stderr",
          "text": [
            "/usr/local/lib/python3.12/dist-packages/torch/utils/data/dataloader.py:666: UserWarning: 'pin_memory' argument is set as true but no accelerator is found, then device pinned memory won't be used.\n",
            "  warnings.warn(warn_msg)\n"
          ]
        },
        {
          "output_type": "stream",
          "name": "stdout",
          "text": [
            "Epoch 31/40 - train_loss=0.1339 val_loss=0.1525 OA=0.9506 AA=0.9474 Kappa=0.9437 time=12.5s\n"
          ]
        },
        {
          "output_type": "stream",
          "name": "stderr",
          "text": [
            "/usr/local/lib/python3.12/dist-packages/torch/utils/data/dataloader.py:666: UserWarning: 'pin_memory' argument is set as true but no accelerator is found, then device pinned memory won't be used.\n",
            "  warnings.warn(warn_msg)\n"
          ]
        },
        {
          "output_type": "stream",
          "name": "stdout",
          "text": [
            "Epoch 32/40 - train_loss=0.1779 val_loss=0.2723 OA=0.9154 AA=0.8548 Kappa=0.9035 time=12.6s\n"
          ]
        },
        {
          "output_type": "stream",
          "name": "stderr",
          "text": [
            "/usr/local/lib/python3.12/dist-packages/torch/utils/data/dataloader.py:666: UserWarning: 'pin_memory' argument is set as true but no accelerator is found, then device pinned memory won't be used.\n",
            "  warnings.warn(warn_msg)\n"
          ]
        },
        {
          "output_type": "stream",
          "name": "stdout",
          "text": [
            "Epoch 33/40 - train_loss=0.2064 val_loss=0.2595 OA=0.9151 AA=0.8585 Kappa=0.9033 time=12.5s\n"
          ]
        },
        {
          "output_type": "stream",
          "name": "stderr",
          "text": [
            "/usr/local/lib/python3.12/dist-packages/torch/utils/data/dataloader.py:666: UserWarning: 'pin_memory' argument is set as true but no accelerator is found, then device pinned memory won't be used.\n",
            "  warnings.warn(warn_msg)\n"
          ]
        },
        {
          "output_type": "stream",
          "name": "stdout",
          "text": [
            "Epoch 34/40 - train_loss=0.1661 val_loss=0.2981 OA=0.9015 AA=0.8603 Kappa=0.8879 time=12.6s\n"
          ]
        },
        {
          "output_type": "stream",
          "name": "stderr",
          "text": [
            "/usr/local/lib/python3.12/dist-packages/torch/utils/data/dataloader.py:666: UserWarning: 'pin_memory' argument is set as true but no accelerator is found, then device pinned memory won't be used.\n",
            "  warnings.warn(warn_msg)\n"
          ]
        },
        {
          "output_type": "stream",
          "name": "stdout",
          "text": [
            "Epoch 35/40 - train_loss=0.2005 val_loss=0.1987 OA=0.9249 AA=0.9351 Kappa=0.9145 time=12.8s\n"
          ]
        },
        {
          "output_type": "stream",
          "name": "stderr",
          "text": [
            "/usr/local/lib/python3.12/dist-packages/torch/utils/data/dataloader.py:666: UserWarning: 'pin_memory' argument is set as true but no accelerator is found, then device pinned memory won't be used.\n",
            "  warnings.warn(warn_msg)\n"
          ]
        },
        {
          "output_type": "stream",
          "name": "stdout",
          "text": [
            "Epoch 36/40 - train_loss=0.1262 val_loss=0.1436 OA=0.9528 AA=0.9404 Kappa=0.9463 time=12.9s\n"
          ]
        },
        {
          "output_type": "stream",
          "name": "stderr",
          "text": [
            "/usr/local/lib/python3.12/dist-packages/torch/utils/data/dataloader.py:666: UserWarning: 'pin_memory' argument is set as true but no accelerator is found, then device pinned memory won't be used.\n",
            "  warnings.warn(warn_msg)\n"
          ]
        },
        {
          "output_type": "stream",
          "name": "stdout",
          "text": [
            "Epoch 37/40 - train_loss=0.1181 val_loss=0.1731 OA=0.9450 AA=0.9377 Kappa=0.9373 time=12.8s\n"
          ]
        },
        {
          "output_type": "stream",
          "name": "stderr",
          "text": [
            "/usr/local/lib/python3.12/dist-packages/torch/utils/data/dataloader.py:666: UserWarning: 'pin_memory' argument is set as true but no accelerator is found, then device pinned memory won't be used.\n",
            "  warnings.warn(warn_msg)\n"
          ]
        },
        {
          "output_type": "stream",
          "name": "stdout",
          "text": [
            "Epoch 38/40 - train_loss=0.1184 val_loss=0.1749 OA=0.9447 AA=0.8917 Kappa=0.9370 time=12.8s\n"
          ]
        },
        {
          "output_type": "stream",
          "name": "stderr",
          "text": [
            "/usr/local/lib/python3.12/dist-packages/torch/utils/data/dataloader.py:666: UserWarning: 'pin_memory' argument is set as true but no accelerator is found, then device pinned memory won't be used.\n",
            "  warnings.warn(warn_msg)\n"
          ]
        },
        {
          "output_type": "stream",
          "name": "stdout",
          "text": [
            "Epoch 39/40 - train_loss=0.0950 val_loss=0.1784 OA=0.9502 AA=0.9598 Kappa=0.9433 time=12.9s\n"
          ]
        },
        {
          "output_type": "stream",
          "name": "stderr",
          "text": [
            "/usr/local/lib/python3.12/dist-packages/torch/utils/data/dataloader.py:666: UserWarning: 'pin_memory' argument is set as true but no accelerator is found, then device pinned memory won't be used.\n",
            "  warnings.warn(warn_msg)\n"
          ]
        },
        {
          "output_type": "stream",
          "name": "stdout",
          "text": [
            "Epoch 40/40 - train_loss=0.1257 val_loss=0.2875 OA=0.9021 AA=0.9311 Kappa=0.8891 time=12.9s\n",
            "Saved final model and history to pca_vit_prepared\n"
          ]
        }
      ],
      "source": [
        "def evaluate(model, loader, criterion, device):\n",
        "    model.eval(); preds, trues = [], []; loss_sum = 0.0\n",
        "    with torch.no_grad():\n",
        "        for xb, yb in loader:\n",
        "            xb, yb = xb.to(device).float(), yb.to(device)\n",
        "            logits = model(xb); loss = criterion(logits, yb)\n",
        "            loss_sum += float(loss) * xb.size(0)\n",
        "            preds.append(logits.argmax(dim=1).cpu().numpy()); trues.append(yb.cpu().numpy())\n",
        "    preds, trues = np.concatenate(preds), np.concatenate(trues)\n",
        "    oa = (preds == trues).sum() / len(trues)\n",
        "    cm = confusion_matrix(trues, preds)\n",
        "    per_class_acc = np.array([cm[i,i]/(cm[i].sum()+1e-12) for i in range(params['num_classes'])])\n",
        "    aa = per_class_acc.mean(); kappa = cohen_kappa_score(trues, preds)\n",
        "    return {'loss': loss_sum/len(trues), 'oa': oa, 'aa': aa, 'kappa': kappa, 'cm': cm}\n",
        "\n",
        "# Training hyperparams\n",
        "device = torch.device(params['device'])\n",
        "model = TinyViT(params['pca_components'], params['patch_size'], params['vit_dim'], params['vit_depth'], params['vit_heads'], params['num_classes']).to(device)\n",
        "opt = torch.optim.Adam(model.parameters(), lr=params['lr'])\n",
        "criterion = nn.CrossEntropyLoss()\n",
        "\n",
        "train_loader = DataLoader(train_ds, batch_size=params['batch_size'], shuffle=True, num_workers=2, pin_memory=True)\n",
        "test_loader  = DataLoader(test_ds,  batch_size=params['batch_size'], shuffle=False, num_workers=2, pin_memory=True)\n",
        "\n",
        "history = {'train_loss': [], 'val_loss': [], 'val_oa': [], 'val_aa': [], 'val_kappa': []}\n",
        "best_oa = 0.0\n",
        "\n",
        "for epoch in range(1, params['epochs']+1):\n",
        "    model.train(); running_loss=0.0; t0=time.time()\n",
        "    for xb, yb in train_loader:\n",
        "        xb, yb = xb.to(device).float(), yb.to(device)\n",
        "        opt.zero_grad(); logits = model(xb); loss = criterion(logits, yb)\n",
        "        loss.backward(); opt.step(); running_loss += float(loss)*xb.size(0)\n",
        "    train_loss = running_loss/len(train_ds)\n",
        "    val = evaluate(model, test_loader, criterion, device)\n",
        "    history['train_loss'].append(train_loss); history['val_loss'].append(val['loss']); history['val_oa'].append(val['oa']); history['val_aa'].append(val['aa']); history['val_kappa'].append(val['kappa'])\n",
        "    if val['oa'] > best_oa:\n",
        "        best_oa = val['oa']\n",
        "        torch.save({'model_state': model.state_dict(), 'opt_state': opt.state_dict(), 'epoch': epoch, 'oa': val['oa']}, OUTDIR/'checkpoint.pth')\n",
        "    print(f\"Epoch {epoch}/{params['epochs']} - train_loss={train_loss:.4f} val_loss={val['loss']:.4f} OA={val['oa']:.4f} AA={val['aa']:.4f} Kappa={val['kappa']:.4f} time={time.time()-t0:.1f}s\")\n",
        "\n",
        "np.save(OUTDIR/'train_history.npy', history)\n",
        "torch.save(model.state_dict(), OUTDIR/'final_model.pth')\n",
        "print('Saved final model and history to', OUTDIR)\n"
      ],
      "id": "rs9tWxwCKcxj"
    },
    {
      "cell_type": "markdown",
      "metadata": {
        "id": "ouNYAWvBKcxj"
      },
      "source": [
        "## 6) Plot training curves"
      ],
      "id": "ouNYAWvBKcxj"
    },
    {
      "cell_type": "code",
      "execution_count": 7,
      "metadata": {
        "colab": {
          "base_uri": "https://localhost:8080/",
          "height": 782
        },
        "id": "3-Qd-M8TKcxj",
        "outputId": "d880ee75-7db8-4d9d-c1f6-00bb229b246f"
      },
      "outputs": [
        {
          "output_type": "display_data",
          "data": {
            "text/plain": [
              "<Figure size 600x400 with 1 Axes>"
            ],
            "image/png": "[encoded data removed]"
          },
          "metadata": {}
        },
        {
          "output_type": "display_data",
          "data": {
            "text/plain": [
              "<Figure size 600x400 with 1 Axes>"
            ],
            "image/png": "[encoded data removed]"
          },
          "metadata": {}
        },
        {
          "output_type": "stream",
          "name": "stdout",
          "text": [
            "Plots saved to pca_vit_prepared\n"
          ]
        }
      ],
      "source": [
        "hist = np.load(OUTDIR/'train_history.npy', allow_pickle=True).item() if (OUTDIR/'train_history.npy').exists() else history\n",
        "plt.figure(figsize=(6,4)); plt.plot(hist['train_loss'], label='train'); plt.plot(hist['val_loss'], label='val'); plt.legend(); plt.title('Loss'); plt.savefig(OUTDIR/'loss_plot.png'); plt.show()\n",
        "plt.figure(figsize=(6,4)); plt.plot(hist['val_oa'], label='OA'); plt.plot(hist['val_aa'], label='AA'); plt.legend(); plt.title('Accuracy'); plt.savefig(OUTDIR/'oa_plot.png'); plt.show()\n",
        "print('Plots saved to', OUTDIR)\n"
      ],
      "id": "3-Qd-M8TKcxj"
    },
    {
      "cell_type": "markdown",
      "metadata": {
        "id": "IWQHd59MKcxk"
      },
      "source": [
        "## 7) (Optional) Build full classification map and visualize\n",
        "Run this cell to generate a 145×145 predicted map and compare against ground truth."
      ],
      "id": "IWQHd59MKcxk"
    },
    {
      "cell_type": "code",
      "execution_count": 8,
      "metadata": {
        "colab": {
          "base_uri": "https://localhost:8080/",
          "height": 428
        },
        "id": "HABrHgDLKcxk",
        "outputId": "f9420a3f-7ae7-43aa-9d16-fdacf44e3724"
      },
      "outputs": [
        {
          "output_type": "display_data",
          "data": {
            "text/plain": [
              "<Figure size 1000x500 with 2 Axes>"
            ],
            "image/png": "[encoded data removed]"
          },
          "metadata": {}
        },
        {
          "output_type": "stream",
          "name": "stdout",
          "text": [
            "Saved classification map to pca_vit_prepared/classification_map.png\n"
          ]
        }
      ],
      "source": [
        "# Load trained model\n",
        "model.load_state_dict(torch.load(OUTDIR/'final_model.pth', map_location=device))\n",
        "model.to(device).eval()\n",
        "\n",
        "# Recreate PCA on full cube (same as earlier)\n",
        "pca = PCA(n_components=params['pca_components'], whiten=True, random_state=42)\n",
        "cube_pca_full = pca.fit_transform(cube.reshape(-1, C)).reshape(H, W, params['pca_components'])\n",
        "\n",
        "# pad\n",
        "pad = params['patch_size']//2\n",
        "cube_pad = np.pad(cube_pca_full, ((pad,pad),(pad,pad),(0,0)), mode='reflect')\n",
        "\n",
        "pred_map = np.zeros((H, W), dtype=np.int32)\n",
        "coords_list = []\n",
        "patches_list = []\n",
        "for i in range(H):\n",
        "    for j in range(W):\n",
        "        if GT[i,j] == 0: continue\n",
        "        patch = cube_pad[i:i+params['patch_size'], j:j+params['patch_size'], :]\n",
        "        patches_list.append(np.transpose(patch, (2,0,1)).astype('float32'))\n",
        "        coords_list.append((i,j))\n",
        "\n",
        "# batch predict\n",
        "bs = 256\n",
        "for s in range(0, len(patches_list), bs):\n",
        "    batch = torch.from_numpy(np.stack(patches_list[s:s+bs])).to(device)\n",
        "    with torch.no_grad():\n",
        "        logits = model(batch)\n",
        "        preds = logits.argmax(dim=1).cpu().numpy()\n",
        "    for (i,j), p in zip(coords_list[s:s+bs], preds):\n",
        "        pred_map[i,j] = p+1\n",
        "\n",
        "plt.figure(figsize=(10,5))\n",
        "plt.subplot(1,2,1); plt.title('Ground Truth'); plt.imshow(GT, cmap='nipy_spectral'); plt.axis('off')\n",
        "plt.subplot(1,2,2); plt.title('Predicted Map'); plt.imshow(pred_map, cmap='nipy_spectral'); plt.axis('off')\n",
        "plt.savefig(OUTDIR/'classification_map.png', dpi=300); plt.show()\n",
        "print('Saved classification map to', OUTDIR/'classification_map.png')\n"
      ],
      "id": "HABrHgDLKcxk"
    }
  ],
  "metadata": {
    "kernelspec": {
      "display_name": "Python 3",
      "language": "python",
      "name": "python3"
    },
    "language_info": {
      "name": "python",
      "version": "3.10"
    },
    "colab": {
      "provenance": [],
      "include_colab_link": true
    }
  },
  "nbformat": 4,
  "nbformat_minor": 5
}