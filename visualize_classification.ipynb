{
  "nbformat": 4,
  "nbformat_minor": 0,
  "metadata": {
    "colab": {
      "provenance": [],
      "authorship_tag": "ABX9TyNtXnN3bX3ZCtLayvx8orv2",
      "include_colab_link": true
    },
    "kernelspec": {
      "name": "python3",
      "display_name": "Python 3"
    },
    "language_info": {
      "name": "python"
    }
  },
  "cells": [
    {
      "cell_type": "markdown",
      "metadata": {
        "id": "view-in-github",
        "colab_type": "text"
      },
      "source": [
        "<a href=\"https://colab.research.google.com/github/siddu49/Minor_Project/blob/main/visualize_classification.ipynb\" target=\"_parent\"><img src=\"https://colab.research.google.com/assets/colab-badge.svg\" alt=\"Open In Colab\"/></a>"
      ]
    },
    {
      "cell_type": "code",
      "execution_count": 1,
      "metadata": {
        "id": "cJn0MKyQ87HA"
      },
      "outputs": [],
      "source": [
        "# visualize_classification_map.py\n",
        "# Visualize predictions of trained PCA+ViT model on Indian Pines dataset\n",
        "import numpy as np\n",
        "import torch\n",
        "import torch.nn as nn\n",
        "from torch.utils.data import Dataset, DataLoader\n",
        "import matplotlib.pyplot as plt\n",
        "from scipy.io import loadmat\n",
        "from sklearn.decomposition import PCA\n",
        "from pathlib import Path\n",
        "\n",
        "# -------------------- Paths --------------------\n",
        "data_dir = Path(\"./pca_vit_prepared\")\n",
        "cube_file = \"Indian_pines_corrected (2).mat\"\n",
        "gt_file   = \"Indian_pines_gt (2).mat\"\n",
        "model_path = data_dir / \"final_model.pth\"\n",
        "\n",
        "# -------------------- Parameters --------------------\n",
        "PATCH_SIZE = 9\n",
        "PCA_COMPONENTS = 3\n",
        "NUM_CLASSES = 16\n",
        "DEVICE = \"cuda\" if torch.cuda.is_available() else \"cpu\"\n"
      ]
    },
    {
      "cell_type": "code",
      "source": [
        "\n",
        "# -------------------- 1. Load Data --------------------\n",
        "print(\"Loading data...\")\n",
        "cube = loadmat(cube_file)[\"indian_pines_corrected\"]\n",
        "gt   = loadmat(gt_file)[\"indian_pines_gt\"]\n",
        "H, W, B = cube.shape\n",
        "print(\"Cube shape:\", cube.shape, \"GT shape:\", gt.shape)\n"
      ],
      "metadata": {
        "colab": {
          "base_uri": "https://localhost:8080/"
        },
        "id": "ictcb9Ae9nCP",
        "outputId": "5b6dfea7-525a-444b-acbe-ebddfb4df254"
      },
      "execution_count": 2,
      "outputs": [
        {
          "output_type": "stream",
          "name": "stdout",
          "text": [
            "Loading data...\n",
            "Cube shape: (145, 145, 200) GT shape: (145, 145)\n"
          ]
        }
      ]
    },
    {
      "cell_type": "code",
      "source": [
        "\n",
        "# -------------------- 2. Apply PCA --------------------\n",
        "pca = PCA(n_components=PCA_COMPONENTS, whiten=True, random_state=42)\n",
        "cube_2d = cube.reshape(-1, B)\n",
        "cube_pca = pca.fit_transform(cube_2d).reshape(H, W, PCA_COMPONENTS)\n",
        "print(\"PCA reduced to\", PCA_COMPONENTS, \"components\")\n"
      ],
      "metadata": {
        "colab": {
          "base_uri": "https://localhost:8080/"
        },
        "id": "sxqVyctA9sWG",
        "outputId": "50fbd9cb-8bd1-40ff-9b93-a87b2d35de33"
      },
      "execution_count": 3,
      "outputs": [
        {
          "output_type": "stream",
          "name": "stdout",
          "text": [
            "PCA reduced to 3 components\n"
          ]
        }
      ]
    },
    {
      "cell_type": "code",
      "source": [
        "\n",
        "# -------------------- 3. Prepare padded cube --------------------\n",
        "margin = PATCH_SIZE // 2\n",
        "cube_pad = np.pad(cube_pca, ((margin, margin), (margin, margin), (0, 0)), mode='reflect')\n"
      ],
      "metadata": {
        "id": "RggQzsF99thG"
      },
      "execution_count": 4,
      "outputs": []
    },
    {
      "cell_type": "code",
      "source": [
        "\n",
        "# -------------------- 4. Define TinyViT (same as training) --------------------\n",
        "class SimplePatchEmbedding(nn.Module):\n",
        "    def __init__(self, in_ch, patch_size, emb_dim):\n",
        "        super().__init__()\n",
        "        self.proj = nn.Linear(in_ch * patch_size * patch_size, emb_dim)\n",
        "    def forward(self, x):\n",
        "        b = x.shape[0]\n",
        "        x = x.reshape(b, -1)\n",
        "        return self.proj(x)\n",
        "\n",
        "class TinyViT(nn.Module):\n",
        "    def __init__(self, in_ch, patch_size, emb_dim, depth, heads, num_classes):\n",
        "        super().__init__()\n",
        "        self.embed = SimplePatchEmbedding(in_ch, patch_size, emb_dim)\n",
        "        encoder_layer = nn.TransformerEncoderLayer(\n",
        "            d_model=emb_dim, nhead=heads, dim_feedforward=emb_dim*2, batch_first=True\n",
        "        )\n",
        "        self.transformer = nn.TransformerEncoder(encoder_layer, num_layers=depth)\n",
        "        self.cls_token = nn.Parameter(torch.randn(1, 1, emb_dim))\n",
        "        self.mlp = nn.Sequential(\n",
        "            nn.LayerNorm(emb_dim),\n",
        "            nn.Linear(emb_dim, 256),\n",
        "            nn.GELU(),\n",
        "            nn.Linear(256, num_classes)\n",
        "        )\n",
        "    def forward(self, x):\n",
        "        b = x.shape[0]\n",
        "        patch_emb = self.embed(x).unsqueeze(1)\n",
        "        cls_tokens = self.cls_token.expand(b, -1, -1)\n",
        "        tokens = torch.cat([cls_tokens, patch_emb], dim=1)\n",
        "        out = self.transformer(tokens)\n",
        "        cls_out = out[:, 0, :]\n",
        "        logits = self.mlp(cls_out)\n",
        "        return logits\n"
      ],
      "metadata": {
        "id": "mAO8AO-49vzg"
      },
      "execution_count": 11,
      "outputs": []
    },
    {
      "cell_type": "code",
      "source": [
        "\n",
        "# -------------------- 5. Load Trained Model --------------------\n",
        "model = TinyViT(in_ch=PCA_COMPONENTS, patch_size=PATCH_SIZE, emb_dim=128, depth=4, heads=4, num_classes=NUM_CLASSES)\n",
        "model.load_state_dict(torch.load(model_path, map_location=DEVICE))\n",
        "model.to(DEVICE).eval()\n",
        "print(\"Loaded trained model from:\", model_path)\n"
      ],
      "metadata": {
        "colab": {
          "base_uri": "https://localhost:8080/"
        },
        "id": "tIlEdt-v9zqM",
        "outputId": "fbf4b900-fdb3-41b6-896b-d1f7f6cbbadf"
      },
      "execution_count": 12,
      "outputs": [
        {
          "output_type": "stream",
          "name": "stdout",
          "text": [
            "Loaded trained model from: pca_vit_prepared/final_model.pth\n"
          ]
        }
      ]
    },
    {
      "cell_type": "code",
      "source": [
        "\n",
        "# -------------------- 6. Generate Predictions --------------------\n",
        "print(\"Predicting full map...\")\n",
        "pred_map = np.zeros((H, W), dtype=np.int64)\n",
        "\n",
        "for i in range(H):\n",
        "    row_patches = []\n",
        "    coords = []\n",
        "    for j in range(W):\n",
        "        if gt[i, j] == 0:\n",
        "            continue\n",
        "        patch = cube_pad[i:i+PATCH_SIZE, j:j+PATCH_SIZE, :]\n",
        "        patch = np.transpose(patch, (2, 0, 1)).astype(\"float32\")\n",
        "        row_patches.append(patch)\n",
        "        coords.append((i, j))\n",
        "    if not row_patches:\n",
        "        continue\n",
        "    patches_tensor = torch.from_numpy(np.stack(row_patches)).to(DEVICE)\n",
        "    with torch.no_grad():\n",
        "        logits = model(patches_tensor)\n",
        "        preds = logits.argmax(dim=1).cpu().numpy()\n",
        "    for (i2, j2), p in zip(coords, preds):\n",
        "        pred_map[i2, j2] = p + 1  # shift back to 1-based for visualization\n"
      ],
      "metadata": {
        "colab": {
          "base_uri": "https://localhost:8080/"
        },
        "id": "qG8BedZv-Cp9",
        "outputId": "ea62648e-b4e5-4609-df63-c45d55c9a100"
      },
      "execution_count": 13,
      "outputs": [
        {
          "output_type": "stream",
          "name": "stdout",
          "text": [
            "Predicting full map...\n"
          ]
        }
      ]
    },
    {
      "cell_type": "code",
      "source": [
        "\n",
        "# -------------------- 7. Visualize Results --------------------\n",
        "plt.figure(figsize=(10,4))\n",
        "plt.subplot(1,2,1)\n",
        "plt.title(\"Ground Truth\")\n",
        "plt.imshow(gt, cmap=\"nipy_spectral\")\n",
        "plt.axis(\"off\")\n",
        "\n",
        "plt.subplot(1,2,2)\n",
        "plt.title(\"Predicted Map (ViT)\")\n",
        "plt.imshow(pred_map, cmap=\"nipy_spectral\")\n",
        "plt.axis(\"off\")\n",
        "\n",
        "plt.tight_layout()\n",
        "plt.savefig(data_dir / \"classification_map.png\", dpi=300)\n",
        "plt.show()\n",
        "\n",
        "print(\"Saved classification map to:\", data_dir / \"classification_map.png\")\n"
      ],
      "metadata": {
        "colab": {
          "base_uri": "https://localhost:8080/",
          "height": 424
        },
        "id": "7r1zVHVC9eiJ",
        "outputId": "b9cea5c1-df96-456b-f56d-48108fb28bd8"
      },
      "execution_count": 14,
      "outputs": [
        {
          "output_type": "display_data",
          "data": {
            "text/plain": [
              "<Figure size 1000x400 with 2 Axes>"
            ],
            "image/png": "[encoded data removed]"
          },
          "metadata": {}
        },
        {
          "output_type": "stream",
          "name": "stdout",
          "text": [
            "Saved classification map to: pca_vit_prepared/classification_map.png\n"
          ]
        }
      ]
    }
  ]
}