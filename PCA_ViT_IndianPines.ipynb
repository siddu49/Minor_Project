{
  "cells": [
    {
      "cell_type": "markdown",
      "metadata": {
        "id": "view-in-github",
        "colab_type": "text"
      },
      "source": [
        "<a href=\"https://colab.research.google.com/github/siddu49/Minor_Project/blob/main/PCA_ViT_IndianPines.ipynb\" target=\"_parent\"><img src=\"https://colab.research.google.com/assets/colab-badge.svg\" alt=\"Open In Colab\"/></a>"
      ]
    },
    {
      "cell_type": "markdown",
      "id": "39252d16",
      "metadata": {
        "id": "39252d16"
      },
      "source": [
        "# PCA + Vision Transformer (ViT) for Indian Pines Dataset\n",
        "---\n",
        "This notebook builds an **end-to-end PCA + Vision Transformer (ViT)** model for hyperspectral image classification on the Indian Pines dataset.\n",
        "\n",
        "**Pipeline Overview:**\n",
        "1. Load the `.mat` files for Indian Pines data and ground truth.\n",
        "2. Apply PCA to reduce spectral dimensions.\n",
        "3. Extract spatial patches centered on labeled pixels.\n",
        "4. Build a small Vision Transformer (TinyViT) in PyTorch.\n",
        "5. Perform a forward pass to verify model correctness.\n",
        "\n",
        "---"
      ]
    },
    {
      "cell_type": "code",
      "source": [
        "import numpy as np\n",
        "from scipy.io import loadmat\n",
        "from sklearn.decomposition import PCA\n",
        "from sklearn.model_selection import train_test_split\n",
        "from pathlib import Path\n",
        "\n",
        "# -------- settings --------\n",
        "PATCH_SIZE = 9\n",
        "PCA_COMPONENTS = 3\n",
        "OUTDIR = Path(\"./pca_vit_prepared\")\n",
        "OUTDIR.mkdir(exist_ok=True)\n",
        "\n",
        "# -------- load data --------\n",
        "cube = loadmat(\"Indian_pines_corrected (2).mat\")[\"indian_pines_corrected\"]\n",
        "gt   = loadmat(\"Indian_pines_gt (2).mat\")[\"indian_pines_gt\"]\n",
        "print(\"Cube:\", cube.shape, \"GT:\", gt.shape)\n",
        "\n",
        "H, W, C = cube.shape\n",
        "n_classes = int(gt.max())\n",
        "print(\"Classes:\", n_classes)\n",
        "\n",
        "# -------- PCA reduction --------\n",
        "cube_2d = cube.reshape(-1, C)\n",
        "pca = PCA(n_components=PCA_COMPONENTS, whiten=True, random_state=42)\n",
        "cube_pca = pca.fit_transform(cube_2d)\n",
        "cube_pca = cube_pca.reshape(H, W, PCA_COMPONENTS)\n",
        "print(\"PCA done:\", cube_pca.shape)\n",
        "\n",
        "# -------- extract labeled patches --------\n",
        "margin = PATCH_SIZE // 2\n",
        "padded = np.pad(cube_pca, ((margin,margin),(margin,margin),(0,0)), mode=\"reflect\")\n",
        "patches, labels = [], []\n",
        "\n",
        "for i in range(margin, H + margin):\n",
        "    for j in range(margin, W + margin):\n",
        "        label = gt[i - margin, j - margin]\n",
        "        if label == 0:   # skip unlabeled\n",
        "            continue\n",
        "        patch = padded[i - margin:i + margin + 1,\n",
        "                       j - margin:j + margin + 1, :]\n",
        "        patches.append(patch)\n",
        "        labels.append(label - 1)   # make labels 0-based\n",
        "\n",
        "patches = np.stack(patches)\n",
        "labels = np.array(labels)\n",
        "print(\"Extracted patches:\", patches.shape, \"Labels:\", labels.shape)\n",
        "\n",
        "# -------- split train/test --------\n",
        "train_idx, test_idx = train_test_split(\n",
        "    np.arange(len(labels)),\n",
        "    test_size=0.3,\n",
        "    random_state=42,\n",
        "    stratify=labels\n",
        ")\n",
        "\n",
        "# -------- save --------\n",
        "np.save(OUTDIR / \"patches.npy\", patches)\n",
        "np.save(OUTDIR / \"labels.npy\", labels)\n",
        "np.save(OUTDIR / \"train_idx.npy\", train_idx)\n",
        "np.save(OUTDIR / \"test_idx.npy\", test_idx)\n",
        "print(\"Saved to\", OUTDIR.resolve())\n"
      ],
      "metadata": {
        "colab": {
          "base_uri": "https://localhost:8080/"
        },
        "id": "YMh60pAp4_Vi",
        "outputId": "ccd2f781-27d9-4ea4-efa7-160c009fe96b"
      },
      "id": "YMh60pAp4_Vi",
      "execution_count": 16,
      "outputs": [
        {
          "output_type": "stream",
          "name": "stdout",
          "text": [
            "Cube: (145, 145, 200) GT: (145, 145)\n",
            "Classes: 16\n",
            "PCA done: (145, 145, 3)\n",
            "Extracted patches: (10249, 9, 9, 3) Labels: (10249,)\n",
            "Saved to /content/pca_vit_prepared\n"
          ]
        }
      ]
    },
    {
      "cell_type": "code",
      "execution_count": 11,
      "id": "51d434f6",
      "metadata": {
        "id": "51d434f6"
      },
      "outputs": [],
      "source": [
        "import os\n",
        "import numpy as np\n",
        "from sklearn.decomposition import PCA\n",
        "from sklearn.model_selection import train_test_split\n",
        "from scipy.io import loadmat\n",
        "\n",
        "import torch\n",
        "import torch.nn as nn\n",
        "from torch.utils.data import Dataset, DataLoader\n"
      ]
    },
    {
      "cell_type": "code",
      "execution_count": 12,
      "id": "231ea84f",
      "metadata": {
        "id": "231ea84f"
      },
      "outputs": [],
      "source": [
        "# Hyperparameters\n",
        "HYPERPARAMS = {\n",
        "    'pca_components': 3,\n",
        "    'patch_size': 9,\n",
        "    'patch_stride': 1,\n",
        "    'train_ratio': 0.3,\n",
        "    'random_seed': 42,\n",
        "    'num_classes': 16,\n",
        "    'vit_dim': 128,\n",
        "    'vit_depth': 4,\n",
        "    'vit_heads': 4,\n",
        "    'mlp_hidden': 256,\n",
        "}\n",
        "\n",
        "DATA_FILES = {\n",
        "    'hsi': '/content/Indian_pines_corrected (2).mat',\n",
        "    'gt': '/content/Indian_pines_gt (2).mat'\n",
        "}\n"
      ]
    },
    {
      "cell_type": "code",
      "execution_count": 13,
      "id": "31d8047b",
      "metadata": {
        "id": "31d8047b"
      },
      "outputs": [],
      "source": [
        "def load_indian_pines(hsi_path, gt_path):\n",
        "    mat_hsi = loadmat(hsi_path)\n",
        "    mat_gt = loadmat(gt_path)\n",
        "    possible_hsi_vars = [k for k in mat_hsi.keys() if not k.startswith('__')]\n",
        "    possible_gt_vars = [k for k in mat_gt.keys() if not k.startswith('__')]\n",
        "    print('HSI variables:', possible_hsi_vars)\n",
        "    print('GT variables:', possible_gt_vars)\n",
        "    hsi = mat_hsi[possible_hsi_vars[0]]\n",
        "    gt = mat_gt[possible_gt_vars[0]]\n",
        "    print('HSI shape:', hsi.shape, 'GT shape:', gt.shape)\n",
        "    return hsi, gt\n",
        "\n",
        "def apply_pca(hsi, n_components=3):\n",
        "    H, W, B = hsi.shape\n",
        "    flat = hsi.reshape(-1, B)\n",
        "    pca = PCA(n_components=n_components)\n",
        "    reduced = pca.fit_transform(flat)\n",
        "    out = reduced.reshape(H, W, n_components)\n",
        "    print('Explained variance ratio sum:', pca.explained_variance_ratio_.sum())\n",
        "    return out, pca\n",
        "\n",
        "def extract_patches(img, gt, patch_size=9, stride=1):\n",
        "    H, W, C = img.shape\n",
        "    pad = patch_size // 2\n",
        "    img_pad = np.pad(img, ((pad, pad), (pad, pad), (0,0)), mode='reflect')\n",
        "    gt_pad = np.pad(gt, ((pad, pad), (pad, pad)), mode='constant', constant_values=0)\n",
        "    patches, labels = [], []\n",
        "    for i in range(pad, pad + H, stride):\n",
        "        for j in range(pad, pad + W, stride):\n",
        "            label = int(gt_pad[i, j])\n",
        "            if label == 0:\n",
        "                continue\n",
        "            patch = img_pad[i-pad:i+pad+1, j-pad:j+pad+1, :]\n",
        "            patches.append(patch)\n",
        "            labels.append(label-1)\n",
        "    patches = np.array(patches, dtype=np.float32)\n",
        "    labels = np.array(labels, dtype=np.int64)\n",
        "    print(f'Extracted {len(patches)} labelled patches')\n",
        "    return patches, labels\n"
      ]
    },
    {
      "cell_type": "code",
      "execution_count": 14,
      "id": "30f93ebb",
      "metadata": {
        "colab": {
          "base_uri": "https://localhost:8080/"
        },
        "id": "30f93ebb",
        "outputId": "faa819c2-42a6-41e8-df5f-932614aa0b06"
      },
      "outputs": [
        {
          "output_type": "stream",
          "name": "stdout",
          "text": [
            "HSI variables: ['indian_pines_corrected']\n",
            "GT variables: ['indian_pines_gt']\n",
            "HSI shape: (145, 145, 200) GT shape: (145, 145)\n",
            "Explained variance ratio sum: 0.9352152488891898\n",
            "Extracted 10249 labelled patches\n",
            "Patches: (10249, 9, 9, 3) Labels: (10249,)\n"
          ]
        }
      ],
      "source": [
        "def prepare_data():\n",
        "    params = HYPERPARAMS\n",
        "    hsi, gt = load_indian_pines(DATA_FILES['hsi'], DATA_FILES['gt'])\n",
        "    pca_img, _ = apply_pca(hsi, params['pca_components'])\n",
        "    patches, labels = extract_patches(pca_img, gt, params['patch_size'], params['patch_stride'])\n",
        "    from sklearn.model_selection import train_test_split\n",
        "    idx = np.arange(len(labels))\n",
        "    train_idx, test_idx = train_test_split(idx, train_size=params['train_ratio'], random_state=params['random_seed'])\n",
        "    return patches, labels, train_idx, test_idx\n",
        "\n",
        "patches, labels, train_idx, test_idx = prepare_data()\n",
        "print('Patches:', patches.shape, 'Labels:', labels.shape)\n"
      ]
    },
    {
      "cell_type": "code",
      "execution_count": 15,
      "id": "621bd945",
      "metadata": {
        "colab": {
          "base_uri": "https://localhost:8080/"
        },
        "id": "621bd945",
        "outputId": "24ee29c2-d01b-4ba1-fa01-6e635e37d0d2"
      },
      "outputs": [
        {
          "output_type": "stream",
          "name": "stdout",
          "text": [
            "Batch: torch.Size([8, 3, 9, 9]) torch.Size([8])\n",
            "Forward pass logits shape: torch.Size([8, 16])\n"
          ]
        }
      ],
      "source": [
        "class HSIPatchDataset(Dataset):\n",
        "    def __init__(self, patches, labels, indices):\n",
        "        self.patches = patches[indices]\n",
        "        self.labels = labels[indices]\n",
        "    def __len__(self):\n",
        "        return len(self.labels)\n",
        "    def __getitem__(self, idx):\n",
        "        x = np.transpose(self.patches[idx], (2,0,1)).copy()\n",
        "        return torch.tensor(x), torch.tensor(self.labels[idx])\n",
        "\n",
        "class SimplePatchEmbedding(nn.Module):\n",
        "    def __init__(self, in_ch, patch_size, emb_dim):\n",
        "        super().__init__()\n",
        "        self.proj = nn.Linear(in_ch * patch_size * patch_size, emb_dim)\n",
        "    def forward(self, x):\n",
        "        b = x.shape[0]\n",
        "        x = x.view(b, -1)\n",
        "        return self.proj(x)\n",
        "\n",
        "class TinyViT(nn.Module):\n",
        "    def __init__(self, in_ch, patch_size, emb_dim, depth, heads, num_classes):\n",
        "        super().__init__()\n",
        "        self.embed = SimplePatchEmbedding(in_ch, patch_size, emb_dim)\n",
        "        encoder_layer = nn.TransformerEncoderLayer(d_model=emb_dim, nhead=heads, batch_first=True)\n",
        "        self.transformer = nn.TransformerEncoder(encoder_layer, num_layers=depth)\n",
        "        self.cls_token = nn.Parameter(torch.randn(1, 1, emb_dim))\n",
        "        self.mlp_head = nn.Sequential(\n",
        "            nn.LayerNorm(emb_dim),\n",
        "            nn.Linear(emb_dim, 256),\n",
        "            nn.GELU(),\n",
        "            nn.Linear(256, num_classes)\n",
        "        )\n",
        "    def forward(self, x):\n",
        "        b = x.shape[0]\n",
        "        patch_emb = self.embed(x).unsqueeze(1)\n",
        "        cls_tokens = self.cls_token.expand(b, -1, -1)\n",
        "        tokens = torch.cat([cls_tokens, patch_emb], dim=1)\n",
        "        out = self.transformer(tokens)\n",
        "        cls_out = out[:,0,:]\n",
        "        return self.mlp_head(cls_out)\n",
        "\n",
        "params = HYPERPARAMS\n",
        "train_dataset = HSIPatchDataset(patches, labels, train_idx[:128])\n",
        "train_loader = DataLoader(train_dataset, batch_size=8, shuffle=True)\n",
        "\n",
        "model = TinyViT(params['pca_components'], params['patch_size'], params['vit_dim'], params['vit_depth'], params['vit_heads'], params['num_classes'])\n",
        "x, y = next(iter(train_loader))\n",
        "print('Batch:', x.shape, y.shape)\n",
        "logits = model(x.float())\n",
        "print('Forward pass logits shape:', logits.shape)\n"
      ]
    },
    {
      "cell_type": "code",
      "source": [
        "# train_pca_vit_indianpines.py\n",
        "# Train TinyViT on PCA-reduced Indian Pines patches\n",
        "import os, time, math\n",
        "import numpy as np\n",
        "from pathlib import Path\n",
        "from sklearn.metrics import cohen_kappa_score, confusion_matrix\n",
        "import matplotlib.pyplot as plt\n",
        "\n",
        "try:\n",
        "    import torch\n",
        "    import torch.nn as nn\n",
        "    from torch.utils.data import Dataset, DataLoader\n",
        "except Exception as e:\n",
        "    raise RuntimeError(\"PyTorch not found. Install PyTorch to run this script.\") from e\n",
        "\n",
        "# ----------------- HYPERPARAMS -----------------\n",
        "params = {\n",
        "    'batch_size': 64,\n",
        "    'epochs': 40,\n",
        "    'lr': 1e-3,\n",
        "    'pca_components': 3,\n",
        "    'patch_size': 9,\n",
        "    'num_classes': 16,\n",
        "    'vit_dim': 128,\n",
        "    'vit_depth': 4,\n",
        "    'vit_heads': 4,\n",
        "    'mlp_hidden': 256,\n",
        "    'device': 'cuda' if torch.cuda.is_available() else 'cpu',\n",
        "    'max_train_samples': None  # add this line (or set to e.g. 2000 for quick testing)\n",
        "}\n",
        "\n",
        "\n",
        "OUTDIR = Path('./pca_vit_prepared')\n",
        "OUTDIR.mkdir(parents=True, exist_ok=True)\n"
      ],
      "metadata": {
        "id": "OniJht2u4Nq_"
      },
      "id": "OniJht2u4Nq_",
      "execution_count": 23,
      "outputs": []
    },
    {
      "cell_type": "code",
      "source": [
        "\n",
        "# ----------------- LOAD DATA -----------------\n",
        "required = ['patches.npy','labels.npy','train_idx.npy','test_idx.npy']\n",
        "for f in required:\n",
        "    if not (OUTDIR / f).exists():\n",
        "        raise FileNotFoundError(f\"Missing {f} in {OUTDIR}. Run the preprocessing script first.\")\n",
        "\n",
        "patches = np.load(OUTDIR / 'patches.npy')   # shape: [N, S, S, C]\n",
        "labels = np.load(OUTDIR / 'labels.npy')     # shape: [N]\n",
        "train_idx = np.load(OUTDIR / 'train_idx.npy')\n",
        "test_idx = np.load(OUTDIR / 'test_idx.npy')\n",
        "\n",
        "# optionally subsample training for quick runs\n",
        "if params['max_train_samples'] is not None and len(train_idx) > params['max_train_samples']:\n",
        "    rng = np.random.RandomState(42)\n",
        "    train_idx = rng.choice(train_idx, size=params['max_train_samples'], replace=False)\n",
        "\n",
        "class HSIDataset(Dataset):\n",
        "    def __init__(self, patches, labels, indices):\n",
        "        self.x = patches[indices].astype('float32')\n",
        "        self.y = labels[indices].astype('int64')\n",
        "    def __len__(self):\n",
        "        return len(self.y)\n",
        "    def __getitem__(self, idx):\n",
        "        img = self.x[idx]         # S x S x C\n",
        "        img = np.transpose(img, (2,0,1)).copy()  # C x S x S\n",
        "        return torch.from_numpy(img), int(self.y[idx])\n",
        "\n",
        "train_ds = HSIDataset(patches, labels, train_idx)\n",
        "test_ds = HSIDataset(patches, labels, test_idx)\n",
        "train_loader = DataLoader(train_ds, batch_size=params['batch_size'], shuffle=True, num_workers=2, pin_memory=True)\n",
        "test_loader  = DataLoader(test_ds,  batch_size=params['batch_size'], shuffle=False, num_workers=2, pin_memory=True)\n"
      ],
      "metadata": {
        "id": "EsvUihfk4Rct"
      },
      "id": "EsvUihfk4Rct",
      "execution_count": 25,
      "outputs": []
    },
    {
      "cell_type": "code",
      "source": [
        "\n",
        "# ----------------- MODEL -----------------\n",
        "class SimplePatchEmbedding(nn.Module):\n",
        "    def __init__(self, in_ch, patch_size, emb_dim):\n",
        "        super().__init__()\n",
        "        self.proj = nn.Linear(in_ch * patch_size * patch_size, emb_dim)\n",
        "    def forward(self, x):\n",
        "        b = x.shape[0]\n",
        "        x = x.view(b, -1)\n",
        "        return self.proj(x)\n",
        "\n",
        "class TinyViT(nn.Module):\n",
        "    def __init__(self, in_ch, patch_size, emb_dim, depth, heads, num_classes):\n",
        "        super().__init__()\n",
        "        self.embed = SimplePatchEmbedding(in_ch, patch_size, emb_dim)\n",
        "        encoder_layer = nn.TransformerEncoderLayer(d_model=emb_dim, nhead=heads, dim_feedforward=emb_dim*2, batch_first=True)\n",
        "        self.transformer = nn.TransformerEncoder(encoder_layer, num_layers=depth)\n",
        "        self.cls_token = nn.Parameter(torch.randn(1,1,emb_dim))\n",
        "        self.mlp = nn.Sequential(\n",
        "            nn.LayerNorm(emb_dim),\n",
        "            nn.Linear(emb_dim, params['mlp_hidden']),\n",
        "            nn.GELU(),\n",
        "            nn.Linear(params['mlp_hidden'], num_classes)\n",
        "        )\n",
        "    def forward(self, x):\n",
        "        # x: B x C x S x S\n",
        "        b = x.shape[0]\n",
        "        patch_emb = self.embed(x).unsqueeze(1)   # B x 1 x emb\n",
        "        cls_tokens = self.cls_token.expand(b, -1, -1)\n",
        "        tokens = torch.cat([cls_tokens, patch_emb], dim=1)  # B x 2 x emb\n",
        "        out = self.transformer(tokens)                       # B x 2 x emb\n",
        "        cls_out = out[:,0,:]\n",
        "        logits = self.mlp(cls_out)\n",
        "        return logits\n",
        "\n",
        "device = torch.device(params['device'])\n",
        "model = TinyViT(in_ch=params['pca_components'],\n",
        "                patch_size=params['patch_size'],\n",
        "                emb_dim=params['vit_dim'],\n",
        "                depth=params['vit_depth'],\n",
        "                heads=params['vit_heads'],\n",
        "                num_classes=params['num_classes']).to(device)\n",
        "\n",
        "opt = torch.optim.Adam(model.parameters(), lr=params['lr'])\n",
        "criterion = nn.CrossEntropyLoss()"
      ],
      "metadata": {
        "id": "hufhHP-M6a2a"
      },
      "id": "hufhHP-M6a2a",
      "execution_count": 26,
      "outputs": []
    },
    {
      "cell_type": "code",
      "source": [
        "# ----------------- EVAL -----------------\n",
        "def evaluate(model, loader):\n",
        "    model.eval()\n",
        "    preds = []\n",
        "    trues = []\n",
        "    loss_sum = 0.0\n",
        "    with torch.no_grad():\n",
        "        for xb, yb in loader:\n",
        "            xb = xb.to(device).float()\n",
        "            yb = yb.to(device)\n",
        "            logits = model(xb)\n",
        "            loss = criterion(logits, yb)\n",
        "            loss_sum += float(loss) * xb.size(0)\n",
        "            preds.append(logits.argmax(dim=1).cpu().numpy())\n",
        "            trues.append(yb.cpu().numpy())\n",
        "    preds = np.concatenate(preds)\n",
        "    trues = np.concatenate(trues)\n",
        "    oa = (preds == trues).sum() / len(trues)\n",
        "    cm = confusion_matrix(trues, preds, labels=list(range(params['num_classes'])))\n",
        "    per_class_acc = np.array([ cm[i,i] / (cm[i].sum()+1e-12) if cm[i].sum() > 0 else 0.0 for i in range(params['num_classes']) ])\n",
        "    aa = per_class_acc.mean()\n",
        "    try:\n",
        "        kappa = cohen_kappa_score(trues, preds)\n",
        "    except:\n",
        "        kappa = float('nan')\n",
        "    return {'loss': loss_sum/len(trues), 'oa': oa, 'aa': aa, 'kappa': kappa, 'cm': cm, 'per_class_acc': per_class_acc}"
      ],
      "metadata": {
        "id": "upK_WHxM6eo0"
      },
      "id": "upK_WHxM6eo0",
      "execution_count": 27,
      "outputs": []
    },
    {
      "cell_type": "code",
      "source": [
        "\n",
        "# ----------------- TRAIN LOOP -----------------\n",
        "history = {'train_loss': [], 'val_loss': [], 'val_oa': [], 'val_aa': [], 'val_kappa': []}\n",
        "best_oa = 0.0\n",
        "for epoch in range(1, params['epochs']+1):\n",
        "    model.train()\n",
        "    running_loss = 0.0\n",
        "    t0 = time.time()\n",
        "    for xb, yb in train_loader:\n",
        "        xb = xb.to(device).float()\n",
        "        yb = yb.to(device)\n",
        "        opt.zero_grad()\n",
        "        logits = model(xb)\n",
        "        loss = criterion(logits, yb)\n",
        "        loss.backward()\n",
        "        opt.step()\n",
        "        running_loss += float(loss) * xb.size(0)\n",
        "    train_loss = running_loss / len(train_ds)\n",
        "    val = evaluate(model, test_loader)\n",
        "    history['train_loss'].append(train_loss)\n",
        "    history['val_loss'].append(val['loss'])\n",
        "    history['val_oa'].append(val['oa'])\n",
        "    history['val_aa'].append(val['aa'])\n",
        "    history['val_kappa'].append(val['kappa'])\n",
        "    elapsed = time.time() - t0\n",
        "    print(f\"Epoch {epoch}/{params['epochs']} — train_loss={train_loss:.4f} val_loss={val['loss']:.4f} OA={val['oa']:.4f} AA={val['aa']:.4f} Kappa={val['kappa']:.4f} time={elapsed:.1f}s\")\n",
        "    # checkpoint best OA\n",
        "    if val['oa'] > best_oa:\n",
        "        best_oa = val['oa']\n",
        "        ckpt = {\n",
        "            'model_state': model.state_dict(),\n",
        "            'opt_state': opt.state_dict(),\n",
        "            'epoch': epoch,\n",
        "            'oa': val['oa']\n",
        "        }\n",
        "        torch.save(ckpt, OUTDIR / 'checkpoint.pth')\n"
      ],
      "metadata": {
        "colab": {
          "base_uri": "https://localhost:8080/"
        },
        "id": "Z221QOLH6jQG",
        "outputId": "47ee7d6c-e413-4d87-d93f-f1fb8ef5edc8"
      },
      "id": "Z221QOLH6jQG",
      "execution_count": 28,
      "outputs": [
        {
          "output_type": "stream",
          "name": "stderr",
          "text": [
            "/usr/local/lib/python3.12/dist-packages/torch/utils/data/dataloader.py:666: UserWarning: 'pin_memory' argument is set as true but no accelerator is found, then device pinned memory won't be used.\n",
            "  warnings.warn(warn_msg)\n",
            "/tmp/ipython-input-2665672371.py:16: UserWarning: Converting a tensor with requires_grad=True to a scalar may lead to unexpected behavior.\n",
            "Consider using tensor.detach() first. (Triggered internally at /pytorch/torch/csrc/autograd/generated/python_variable_methods.cpp:835.)\n",
            "  running_loss += float(loss) * xb.size(0)\n"
          ]
        },
        {
          "output_type": "stream",
          "name": "stdout",
          "text": [
            "Epoch 1/40 — train_loss=1.1965 val_loss=0.8577 OA=0.6667 AA=0.5313 Kappa=0.6150 time=6.8s\n"
          ]
        },
        {
          "output_type": "stream",
          "name": "stderr",
          "text": [
            "/usr/local/lib/python3.12/dist-packages/torch/utils/data/dataloader.py:666: UserWarning: 'pin_memory' argument is set as true but no accelerator is found, then device pinned memory won't be used.\n",
            "  warnings.warn(warn_msg)\n"
          ]
        },
        {
          "output_type": "stream",
          "name": "stdout",
          "text": [
            "Epoch 2/40 — train_loss=0.7799 val_loss=0.6439 OA=0.7532 AA=0.6636 Kappa=0.7184 time=4.9s\n"
          ]
        },
        {
          "output_type": "stream",
          "name": "stderr",
          "text": [
            "/usr/local/lib/python3.12/dist-packages/torch/utils/data/dataloader.py:666: UserWarning: 'pin_memory' argument is set as true but no accelerator is found, then device pinned memory won't be used.\n",
            "  warnings.warn(warn_msg)\n"
          ]
        },
        {
          "output_type": "stream",
          "name": "stdout",
          "text": [
            "Epoch 3/40 — train_loss=0.5525 val_loss=0.4729 OA=0.8192 AA=0.8122 Kappa=0.7932 time=6.0s\n"
          ]
        },
        {
          "output_type": "stream",
          "name": "stderr",
          "text": [
            "/usr/local/lib/python3.12/dist-packages/torch/utils/data/dataloader.py:666: UserWarning: 'pin_memory' argument is set as true but no accelerator is found, then device pinned memory won't be used.\n",
            "  warnings.warn(warn_msg)\n"
          ]
        },
        {
          "output_type": "stream",
          "name": "stdout",
          "text": [
            "Epoch 4/40 — train_loss=0.4290 val_loss=0.3986 OA=0.8524 AA=0.7752 Kappa=0.8313 time=4.9s\n"
          ]
        },
        {
          "output_type": "stream",
          "name": "stderr",
          "text": [
            "/usr/local/lib/python3.12/dist-packages/torch/utils/data/dataloader.py:666: UserWarning: 'pin_memory' argument is set as true but no accelerator is found, then device pinned memory won't be used.\n",
            "  warnings.warn(warn_msg)\n"
          ]
        },
        {
          "output_type": "stream",
          "name": "stdout",
          "text": [
            "Epoch 5/40 — train_loss=0.3668 val_loss=0.3556 OA=0.8624 AA=0.8689 Kappa=0.8437 time=4.9s\n"
          ]
        },
        {
          "output_type": "stream",
          "name": "stderr",
          "text": [
            "/usr/local/lib/python3.12/dist-packages/torch/utils/data/dataloader.py:666: UserWarning: 'pin_memory' argument is set as true but no accelerator is found, then device pinned memory won't be used.\n",
            "  warnings.warn(warn_msg)\n"
          ]
        },
        {
          "output_type": "stream",
          "name": "stdout",
          "text": [
            "Epoch 6/40 — train_loss=0.3743 val_loss=0.2774 OA=0.8995 AA=0.9000 Kappa=0.8853 time=5.8s\n"
          ]
        },
        {
          "output_type": "stream",
          "name": "stderr",
          "text": [
            "/usr/local/lib/python3.12/dist-packages/torch/utils/data/dataloader.py:666: UserWarning: 'pin_memory' argument is set as true but no accelerator is found, then device pinned memory won't be used.\n",
            "  warnings.warn(warn_msg)\n"
          ]
        },
        {
          "output_type": "stream",
          "name": "stdout",
          "text": [
            "Epoch 7/40 — train_loss=0.2394 val_loss=0.2438 OA=0.9132 AA=0.9198 Kappa=0.9011 time=4.9s\n"
          ]
        },
        {
          "output_type": "stream",
          "name": "stderr",
          "text": [
            "/usr/local/lib/python3.12/dist-packages/torch/utils/data/dataloader.py:666: UserWarning: 'pin_memory' argument is set as true but no accelerator is found, then device pinned memory won't be used.\n",
            "  warnings.warn(warn_msg)\n"
          ]
        },
        {
          "output_type": "stream",
          "name": "stdout",
          "text": [
            "Epoch 8/40 — train_loss=0.2500 val_loss=0.1772 OA=0.9285 AA=0.9104 Kappa=0.9187 time=5.9s\n"
          ]
        },
        {
          "output_type": "stream",
          "name": "stderr",
          "text": [
            "/usr/local/lib/python3.12/dist-packages/torch/utils/data/dataloader.py:666: UserWarning: 'pin_memory' argument is set as true but no accelerator is found, then device pinned memory won't be used.\n",
            "  warnings.warn(warn_msg)\n"
          ]
        },
        {
          "output_type": "stream",
          "name": "stdout",
          "text": [
            "Epoch 9/40 — train_loss=0.1936 val_loss=0.2001 OA=0.9356 AA=0.9267 Kappa=0.9264 time=4.9s\n"
          ]
        },
        {
          "output_type": "stream",
          "name": "stderr",
          "text": [
            "/usr/local/lib/python3.12/dist-packages/torch/utils/data/dataloader.py:666: UserWarning: 'pin_memory' argument is set as true but no accelerator is found, then device pinned memory won't be used.\n",
            "  warnings.warn(warn_msg)\n"
          ]
        },
        {
          "output_type": "stream",
          "name": "stdout",
          "text": [
            "Epoch 10/40 — train_loss=0.2275 val_loss=0.2560 OA=0.9080 AA=0.9024 Kappa=0.8953 time=5.7s\n"
          ]
        },
        {
          "output_type": "stream",
          "name": "stderr",
          "text": [
            "/usr/local/lib/python3.12/dist-packages/torch/utils/data/dataloader.py:666: UserWarning: 'pin_memory' argument is set as true but no accelerator is found, then device pinned memory won't be used.\n",
            "  warnings.warn(warn_msg)\n"
          ]
        },
        {
          "output_type": "stream",
          "name": "stdout",
          "text": [
            "Epoch 11/40 — train_loss=0.2012 val_loss=0.2179 OA=0.9200 AA=0.9065 Kappa=0.9089 time=5.3s\n"
          ]
        },
        {
          "output_type": "stream",
          "name": "stderr",
          "text": [
            "/usr/local/lib/python3.12/dist-packages/torch/utils/data/dataloader.py:666: UserWarning: 'pin_memory' argument is set as true but no accelerator is found, then device pinned memory won't be used.\n",
            "  warnings.warn(warn_msg)\n"
          ]
        },
        {
          "output_type": "stream",
          "name": "stdout",
          "text": [
            "Epoch 12/40 — train_loss=0.1796 val_loss=0.1436 OA=0.9522 AA=0.9366 Kappa=0.9455 time=5.2s\n"
          ]
        },
        {
          "output_type": "stream",
          "name": "stderr",
          "text": [
            "/usr/local/lib/python3.12/dist-packages/torch/utils/data/dataloader.py:666: UserWarning: 'pin_memory' argument is set as true but no accelerator is found, then device pinned memory won't be used.\n",
            "  warnings.warn(warn_msg)\n"
          ]
        },
        {
          "output_type": "stream",
          "name": "stdout",
          "text": [
            "Epoch 13/40 — train_loss=0.1821 val_loss=0.2293 OA=0.9249 AA=0.8827 Kappa=0.9143 time=6.0s\n"
          ]
        },
        {
          "output_type": "stream",
          "name": "stderr",
          "text": [
            "/usr/local/lib/python3.12/dist-packages/torch/utils/data/dataloader.py:666: UserWarning: 'pin_memory' argument is set as true but no accelerator is found, then device pinned memory won't be used.\n",
            "  warnings.warn(warn_msg)\n"
          ]
        },
        {
          "output_type": "stream",
          "name": "stdout",
          "text": [
            "Epoch 14/40 — train_loss=0.1809 val_loss=0.1977 OA=0.9288 AA=0.9330 Kappa=0.9186 time=5.1s\n"
          ]
        },
        {
          "output_type": "stream",
          "name": "stderr",
          "text": [
            "/usr/local/lib/python3.12/dist-packages/torch/utils/data/dataloader.py:666: UserWarning: 'pin_memory' argument is set as true but no accelerator is found, then device pinned memory won't be used.\n",
            "  warnings.warn(warn_msg)\n"
          ]
        },
        {
          "output_type": "stream",
          "name": "stdout",
          "text": [
            "Epoch 15/40 — train_loss=0.2227 val_loss=0.1226 OA=0.9532 AA=0.9495 Kappa=0.9466 time=6.1s\n"
          ]
        },
        {
          "output_type": "stream",
          "name": "stderr",
          "text": [
            "/usr/local/lib/python3.12/dist-packages/torch/utils/data/dataloader.py:666: UserWarning: 'pin_memory' argument is set as true but no accelerator is found, then device pinned memory won't be used.\n",
            "  warnings.warn(warn_msg)\n"
          ]
        },
        {
          "output_type": "stream",
          "name": "stdout",
          "text": [
            "Epoch 16/40 — train_loss=0.1919 val_loss=0.1714 OA=0.9382 AA=0.9291 Kappa=0.9298 time=5.1s\n"
          ]
        },
        {
          "output_type": "stream",
          "name": "stderr",
          "text": [
            "/usr/local/lib/python3.12/dist-packages/torch/utils/data/dataloader.py:666: UserWarning: 'pin_memory' argument is set as true but no accelerator is found, then device pinned memory won't be used.\n",
            "  warnings.warn(warn_msg)\n"
          ]
        },
        {
          "output_type": "stream",
          "name": "stdout",
          "text": [
            "Epoch 17/40 — train_loss=0.1419 val_loss=0.1359 OA=0.9574 AA=0.9623 Kappa=0.9513 time=5.8s\n"
          ]
        },
        {
          "output_type": "stream",
          "name": "stderr",
          "text": [
            "/usr/local/lib/python3.12/dist-packages/torch/utils/data/dataloader.py:666: UserWarning: 'pin_memory' argument is set as true but no accelerator is found, then device pinned memory won't be used.\n",
            "  warnings.warn(warn_msg)\n"
          ]
        },
        {
          "output_type": "stream",
          "name": "stdout",
          "text": [
            "Epoch 18/40 — train_loss=0.1380 val_loss=0.1682 OA=0.9421 AA=0.9209 Kappa=0.9339 time=5.8s\n"
          ]
        },
        {
          "output_type": "stream",
          "name": "stderr",
          "text": [
            "/usr/local/lib/python3.12/dist-packages/torch/utils/data/dataloader.py:666: UserWarning: 'pin_memory' argument is set as true but no accelerator is found, then device pinned memory won't be used.\n",
            "  warnings.warn(warn_msg)\n"
          ]
        },
        {
          "output_type": "stream",
          "name": "stdout",
          "text": [
            "Epoch 19/40 — train_loss=0.1493 val_loss=0.1841 OA=0.9408 AA=0.8813 Kappa=0.9326 time=5.3s\n"
          ]
        },
        {
          "output_type": "stream",
          "name": "stderr",
          "text": [
            "/usr/local/lib/python3.12/dist-packages/torch/utils/data/dataloader.py:666: UserWarning: 'pin_memory' argument is set as true but no accelerator is found, then device pinned memory won't be used.\n",
            "  warnings.warn(warn_msg)\n"
          ]
        },
        {
          "output_type": "stream",
          "name": "stdout",
          "text": [
            "Epoch 20/40 — train_loss=0.1198 val_loss=0.1694 OA=0.9428 AA=0.9554 Kappa=0.9348 time=6.0s\n"
          ]
        },
        {
          "output_type": "stream",
          "name": "stderr",
          "text": [
            "/usr/local/lib/python3.12/dist-packages/torch/utils/data/dataloader.py:666: UserWarning: 'pin_memory' argument is set as true but no accelerator is found, then device pinned memory won't be used.\n",
            "  warnings.warn(warn_msg)\n"
          ]
        },
        {
          "output_type": "stream",
          "name": "stdout",
          "text": [
            "Epoch 21/40 — train_loss=0.1279 val_loss=0.1579 OA=0.9522 AA=0.9357 Kappa=0.9455 time=5.2s\n"
          ]
        },
        {
          "output_type": "stream",
          "name": "stderr",
          "text": [
            "/usr/local/lib/python3.12/dist-packages/torch/utils/data/dataloader.py:666: UserWarning: 'pin_memory' argument is set as true but no accelerator is found, then device pinned memory won't be used.\n",
            "  warnings.warn(warn_msg)\n"
          ]
        },
        {
          "output_type": "stream",
          "name": "stdout",
          "text": [
            "Epoch 22/40 — train_loss=0.1292 val_loss=0.1219 OA=0.9577 AA=0.9524 Kappa=0.9517 time=6.2s\n"
          ]
        },
        {
          "output_type": "stream",
          "name": "stderr",
          "text": [
            "/usr/local/lib/python3.12/dist-packages/torch/utils/data/dataloader.py:666: UserWarning: 'pin_memory' argument is set as true but no accelerator is found, then device pinned memory won't be used.\n",
            "  warnings.warn(warn_msg)\n"
          ]
        },
        {
          "output_type": "stream",
          "name": "stdout",
          "text": [
            "Epoch 23/40 — train_loss=0.1257 val_loss=0.1471 OA=0.9528 AA=0.9430 Kappa=0.9462 time=5.3s\n"
          ]
        },
        {
          "output_type": "stream",
          "name": "stderr",
          "text": [
            "/usr/local/lib/python3.12/dist-packages/torch/utils/data/dataloader.py:666: UserWarning: 'pin_memory' argument is set as true but no accelerator is found, then device pinned memory won't be used.\n",
            "  warnings.warn(warn_msg)\n"
          ]
        },
        {
          "output_type": "stream",
          "name": "stdout",
          "text": [
            "Epoch 24/40 — train_loss=0.1345 val_loss=0.1516 OA=0.9499 AA=0.9667 Kappa=0.9429 time=6.1s\n"
          ]
        },
        {
          "output_type": "stream",
          "name": "stderr",
          "text": [
            "/usr/local/lib/python3.12/dist-packages/torch/utils/data/dataloader.py:666: UserWarning: 'pin_memory' argument is set as true but no accelerator is found, then device pinned memory won't be used.\n",
            "  warnings.warn(warn_msg)\n"
          ]
        },
        {
          "output_type": "stream",
          "name": "stdout",
          "text": [
            "Epoch 25/40 — train_loss=0.1387 val_loss=0.1405 OA=0.9532 AA=0.9557 Kappa=0.9467 time=5.3s\n"
          ]
        },
        {
          "output_type": "stream",
          "name": "stderr",
          "text": [
            "/usr/local/lib/python3.12/dist-packages/torch/utils/data/dataloader.py:666: UserWarning: 'pin_memory' argument is set as true but no accelerator is found, then device pinned memory won't be used.\n",
            "  warnings.warn(warn_msg)\n"
          ]
        },
        {
          "output_type": "stream",
          "name": "stdout",
          "text": [
            "Epoch 26/40 — train_loss=0.1210 val_loss=0.1415 OA=0.9512 AA=0.9274 Kappa=0.9444 time=5.9s\n"
          ]
        },
        {
          "output_type": "stream",
          "name": "stderr",
          "text": [
            "/usr/local/lib/python3.12/dist-packages/torch/utils/data/dataloader.py:666: UserWarning: 'pin_memory' argument is set as true but no accelerator is found, then device pinned memory won't be used.\n",
            "  warnings.warn(warn_msg)\n"
          ]
        },
        {
          "output_type": "stream",
          "name": "stdout",
          "text": [
            "Epoch 27/40 — train_loss=0.1006 val_loss=0.1487 OA=0.9512 AA=0.9573 Kappa=0.9444 time=5.5s\n"
          ]
        },
        {
          "output_type": "stream",
          "name": "stderr",
          "text": [
            "/usr/local/lib/python3.12/dist-packages/torch/utils/data/dataloader.py:666: UserWarning: 'pin_memory' argument is set as true but no accelerator is found, then device pinned memory won't be used.\n",
            "  warnings.warn(warn_msg)\n"
          ]
        },
        {
          "output_type": "stream",
          "name": "stdout",
          "text": [
            "Epoch 28/40 — train_loss=0.0717 val_loss=0.1866 OA=0.9476 AA=0.9515 Kappa=0.9403 time=6.4s\n"
          ]
        },
        {
          "output_type": "stream",
          "name": "stderr",
          "text": [
            "/usr/local/lib/python3.12/dist-packages/torch/utils/data/dataloader.py:666: UserWarning: 'pin_memory' argument is set as true but no accelerator is found, then device pinned memory won't be used.\n",
            "  warnings.warn(warn_msg)\n"
          ]
        },
        {
          "output_type": "stream",
          "name": "stdout",
          "text": [
            "Epoch 29/40 — train_loss=0.2270 val_loss=0.1402 OA=0.9541 AA=0.9452 Kappa=0.9477 time=6.4s\n"
          ]
        },
        {
          "output_type": "stream",
          "name": "stderr",
          "text": [
            "/usr/local/lib/python3.12/dist-packages/torch/utils/data/dataloader.py:666: UserWarning: 'pin_memory' argument is set as true but no accelerator is found, then device pinned memory won't be used.\n",
            "  warnings.warn(warn_msg)\n"
          ]
        },
        {
          "output_type": "stream",
          "name": "stdout",
          "text": [
            "Epoch 30/40 — train_loss=0.1740 val_loss=0.1482 OA=0.9493 AA=0.9290 Kappa=0.9421 time=5.3s\n"
          ]
        },
        {
          "output_type": "stream",
          "name": "stderr",
          "text": [
            "/usr/local/lib/python3.12/dist-packages/torch/utils/data/dataloader.py:666: UserWarning: 'pin_memory' argument is set as true but no accelerator is found, then device pinned memory won't be used.\n",
            "  warnings.warn(warn_msg)\n"
          ]
        },
        {
          "output_type": "stream",
          "name": "stdout",
          "text": [
            "Epoch 31/40 — train_loss=0.1248 val_loss=0.0780 OA=0.9698 AA=0.9711 Kappa=0.9654 time=6.2s\n"
          ]
        },
        {
          "output_type": "stream",
          "name": "stderr",
          "text": [
            "/usr/local/lib/python3.12/dist-packages/torch/utils/data/dataloader.py:666: UserWarning: 'pin_memory' argument is set as true but no accelerator is found, then device pinned memory won't be used.\n",
            "  warnings.warn(warn_msg)\n"
          ]
        },
        {
          "output_type": "stream",
          "name": "stdout",
          "text": [
            "Epoch 32/40 — train_loss=0.1185 val_loss=0.1388 OA=0.9567 AA=0.9623 Kappa=0.9507 time=5.2s\n"
          ]
        },
        {
          "output_type": "stream",
          "name": "stderr",
          "text": [
            "/usr/local/lib/python3.12/dist-packages/torch/utils/data/dataloader.py:666: UserWarning: 'pin_memory' argument is set as true but no accelerator is found, then device pinned memory won't be used.\n",
            "  warnings.warn(warn_msg)\n"
          ]
        },
        {
          "output_type": "stream",
          "name": "stdout",
          "text": [
            "Epoch 33/40 — train_loss=0.1292 val_loss=0.1049 OA=0.9633 AA=0.9447 Kappa=0.9581 time=6.4s\n"
          ]
        },
        {
          "output_type": "stream",
          "name": "stderr",
          "text": [
            "/usr/local/lib/python3.12/dist-packages/torch/utils/data/dataloader.py:666: UserWarning: 'pin_memory' argument is set as true but no accelerator is found, then device pinned memory won't be used.\n",
            "  warnings.warn(warn_msg)\n"
          ]
        },
        {
          "output_type": "stream",
          "name": "stdout",
          "text": [
            "Epoch 34/40 — train_loss=0.0978 val_loss=0.1170 OA=0.9629 AA=0.9711 Kappa=0.9577 time=5.4s\n"
          ]
        },
        {
          "output_type": "stream",
          "name": "stderr",
          "text": [
            "/usr/local/lib/python3.12/dist-packages/torch/utils/data/dataloader.py:666: UserWarning: 'pin_memory' argument is set as true but no accelerator is found, then device pinned memory won't be used.\n",
            "  warnings.warn(warn_msg)\n"
          ]
        },
        {
          "output_type": "stream",
          "name": "stdout",
          "text": [
            "Epoch 35/40 — train_loss=0.1224 val_loss=0.1544 OA=0.9519 AA=0.9499 Kappa=0.9451 time=6.3s\n"
          ]
        },
        {
          "output_type": "stream",
          "name": "stderr",
          "text": [
            "/usr/local/lib/python3.12/dist-packages/torch/utils/data/dataloader.py:666: UserWarning: 'pin_memory' argument is set as true but no accelerator is found, then device pinned memory won't be used.\n",
            "  warnings.warn(warn_msg)\n"
          ]
        },
        {
          "output_type": "stream",
          "name": "stdout",
          "text": [
            "Epoch 36/40 — train_loss=0.1356 val_loss=0.1295 OA=0.9509 AA=0.9660 Kappa=0.9441 time=5.5s\n"
          ]
        },
        {
          "output_type": "stream",
          "name": "stderr",
          "text": [
            "/usr/local/lib/python3.12/dist-packages/torch/utils/data/dataloader.py:666: UserWarning: 'pin_memory' argument is set as true but no accelerator is found, then device pinned memory won't be used.\n",
            "  warnings.warn(warn_msg)\n"
          ]
        },
        {
          "output_type": "stream",
          "name": "stdout",
          "text": [
            "Epoch 37/40 — train_loss=0.0855 val_loss=0.0995 OA=0.9750 AA=0.9605 Kappa=0.9714 time=6.2s\n"
          ]
        },
        {
          "output_type": "stream",
          "name": "stderr",
          "text": [
            "/usr/local/lib/python3.12/dist-packages/torch/utils/data/dataloader.py:666: UserWarning: 'pin_memory' argument is set as true but no accelerator is found, then device pinned memory won't be used.\n",
            "  warnings.warn(warn_msg)\n"
          ]
        },
        {
          "output_type": "stream",
          "name": "stdout",
          "text": [
            "Epoch 38/40 — train_loss=0.0859 val_loss=0.0779 OA=0.9766 AA=0.9713 Kappa=0.9733 time=5.5s\n"
          ]
        },
        {
          "output_type": "stream",
          "name": "stderr",
          "text": [
            "/usr/local/lib/python3.12/dist-packages/torch/utils/data/dataloader.py:666: UserWarning: 'pin_memory' argument is set as true but no accelerator is found, then device pinned memory won't be used.\n",
            "  warnings.warn(warn_msg)\n"
          ]
        },
        {
          "output_type": "stream",
          "name": "stdout",
          "text": [
            "Epoch 39/40 — train_loss=0.0835 val_loss=0.1411 OA=0.9541 AA=0.9536 Kappa=0.9477 time=5.8s\n"
          ]
        },
        {
          "output_type": "stream",
          "name": "stderr",
          "text": [
            "/usr/local/lib/python3.12/dist-packages/torch/utils/data/dataloader.py:666: UserWarning: 'pin_memory' argument is set as true but no accelerator is found, then device pinned memory won't be used.\n",
            "  warnings.warn(warn_msg)\n"
          ]
        },
        {
          "output_type": "stream",
          "name": "stdout",
          "text": [
            "Epoch 40/40 — train_loss=0.1153 val_loss=0.1417 OA=0.9551 AA=0.9392 Kappa=0.9487 time=6.3s\n"
          ]
        }
      ]
    },
    {
      "cell_type": "code",
      "source": [
        "# ----------------- SAVE & PLOTS -----------------\n",
        "np.save(OUTDIR / 'train_history.npy', history)\n",
        "torch.save(model.state_dict(), OUTDIR / 'final_model.pth')\n",
        "print(\"Training finished. Best validation OA:\", best_oa)\n",
        "# Loss plot\n",
        "plt.figure()\n",
        "plt.plot(history['train_loss'])\n",
        "plt.plot(history['val_loss'])\n",
        "plt.title('Loss')\n",
        "plt.xlabel('epoch')\n",
        "plt.legend(['train','val'])\n",
        "plt.savefig(OUTDIR / 'loss_plot.png')\n",
        "# OA plot\n",
        "plt.figure()\n",
        "plt.plot(history['val_oa'])\n",
        "plt.title('Validation OA')\n",
        "plt.xlabel('epoch')\n",
        "plt.savefig(OUTDIR / 'oa_plot.png')\n",
        "print(\"Saved artifacts in\", OUTDIR)\n"
      ],
      "metadata": {
        "colab": {
          "base_uri": "https://localhost:8080/",
          "height": 962
        },
        "id": "xCbH-Gzj4KXB",
        "outputId": "89623ad9-51ea-42ab-cb9a-843a7d3525f5"
      },
      "id": "xCbH-Gzj4KXB",
      "execution_count": 29,
      "outputs": [
        {
          "output_type": "stream",
          "name": "stdout",
          "text": [
            "Training finished. Best validation OA: 0.9765853658536585\n",
            "Saved artifacts in pca_vit_prepared\n"
          ]
        },
        {
          "output_type": "display_data",
          "data": {
            "text/plain": [
              "<Figure size 640x480 with 1 Axes>"
            ],
            "image/png": "[encoded data removed]"
          },
          "metadata": {}
        },
        {
          "output_type": "display_data",
          "data": {
            "text/plain": [
              "<Figure size 640x480 with 1 Axes>"
            ],
            "image/png": "[encoded data removed]"
          },
          "metadata": {}
        }
      ]
    }
  ],
  "metadata": {
    "colab": {
      "provenance": [],
      "include_colab_link": true
    },
    "language_info": {
      "name": "python"
    },
    "kernelspec": {
      "name": "python3",
      "display_name": "Python 3"
    }
  },
  "nbformat": 4,
  "nbformat_minor": 5
}